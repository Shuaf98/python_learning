{
 "metadata": {
  "language_info": {
   "codemirror_mode": {
    "name": "ipython",
    "version": 3
   },
   "file_extension": ".py",
   "mimetype": "text/x-python",
   "name": "python",
   "nbconvert_exporter": "python",
   "pygments_lexer": "ipython3",
   "version": "3.9.1"
  },
  "orig_nbformat": 2,
  "kernelspec": {
   "name": "python391jvsc74a57bd09b8ab61c9e77274f2d446992832627a1a97087245ff5de8b0d11c3c770be55a5",
   "display_name": "Python 3.9.1 64-bit"
  }
 },
 "nbformat": 4,
 "nbformat_minor": 2,
 "cells": [
  {
   "cell_type": "code",
   "execution_count": 1,
   "metadata": {},
   "outputs": [],
   "source": [
    "import pandas as pd\n",
    "import os"
   ]
  },
  {
   "source": [
    "To read in a file, it will use pd.read_desiredreader.\n",
    "However writing out a file uses a method on the data frame itself."
   ],
   "cell_type": "markdown",
   "metadata": {}
  },
  {
   "cell_type": "code",
   "execution_count": 3,
   "metadata": {},
   "outputs": [
    {
     "output_type": "execute_result",
     "data": {
      "text/plain": [
       "'c:\\\\Users\\\\sfrie\\\\Python\\\\pandas'"
      ]
     },
     "metadata": {},
     "execution_count": 3
    }
   ],
   "source": [
    "#In a notebook, we can get the current directory using pwd.\n",
    "pwd"
   ]
  },
  {
   "cell_type": "code",
   "execution_count": 4,
   "metadata": {},
   "outputs": [
    {
     "output_type": "stream",
     "name": "stdout",
     "text": [
      " Volume in drive C is Windows-SSD\n Volume Serial Number is 32B6-9035\n\n Directory of c:\\Users\\sfrie\\Python\\pandas\n\n06/10/2021  02:36 PM    <DIR>          .\n06/10/2021  02:36 PM    <DIR>          ..\n06/06/2021  05:35 PM            50,622 dataframes_basics.ipynb\n06/03/2021  04:54 PM            22,852 filtering_and_conditions.ipynb\n06/10/2021  02:36 PM                 0 input_output.ipynb\n06/06/2021  05:39 PM            24,837 methods_apply.ipynb\n06/07/2021  12:04 PM            30,173 methods_stat.ipynb\n06/07/2021  10:08 AM             6,268 methods_string.ipynb\n06/07/2021  12:08 AM            23,800 missing_data.ipynb\n06/07/2021  10:08 AM            33,744 pandas_practice_dataframe.ipynb\n06/05/2021  11:31 PM            25,578 pandas_practice_series.ipynb\n06/06/2021  01:12 PM             6,925 series.ipynb\n06/06/2021  05:32 PM    <DIR>          udemy_pandas_files\n              10 File(s)        224,799 bytes\n               3 Dir(s)  164,270,428,160 bytes free\n"
     ]
    }
   ],
   "source": [
    "ls"
   ]
  },
  {
   "cell_type": "code",
   "execution_count": 1,
   "metadata": {},
   "outputs": [
    {
     "output_type": "stream",
     "name": "stdout",
     "text": [
      "290 ns ± 11.4 ns per loop (mean ± std. dev. of 7 runs, 1000000 loops each)\n"
     ]
    }
   ],
   "source": [
    "#However, when using a regular script, we can use the os module\n",
    "os.getcwd()"
   ]
  },
  {
   "cell_type": "code",
   "execution_count": 8,
   "metadata": {},
   "outputs": [],
   "source": [
    "os.chdir(r\"C:\\Users\\sfrie\\Python\\pandas\\udemy_pandas_files\")"
   ]
  },
  {
   "source": [
    "### CSV Files"
   ],
   "cell_type": "markdown",
   "metadata": {}
  },
  {
   "cell_type": "code",
   "execution_count": 13,
   "metadata": {},
   "outputs": [
    {
     "output_type": "execute_result",
     "data": {
      "text/plain": [
       "     b   c   d\n",
       "a             \n",
       "0    1   2   3\n",
       "4    5   6   7\n",
       "8    9  10  11\n",
       "12  13  14  15"
      ],
      "text/html": "<div>\n<style scoped>\n    .dataframe tbody tr th:only-of-type {\n        vertical-align: middle;\n    }\n\n    .dataframe tbody tr th {\n        vertical-align: top;\n    }\n\n    .dataframe thead th {\n        text-align: right;\n    }\n</style>\n<table border=\"1\" class=\"dataframe\">\n  <thead>\n    <tr style=\"text-align: right;\">\n      <th></th>\n      <th>b</th>\n      <th>c</th>\n      <th>d</th>\n    </tr>\n    <tr>\n      <th>a</th>\n      <th></th>\n      <th></th>\n      <th></th>\n    </tr>\n  </thead>\n  <tbody>\n    <tr>\n      <th>0</th>\n      <td>1</td>\n      <td>2</td>\n      <td>3</td>\n    </tr>\n    <tr>\n      <th>4</th>\n      <td>5</td>\n      <td>6</td>\n      <td>7</td>\n    </tr>\n    <tr>\n      <th>8</th>\n      <td>9</td>\n      <td>10</td>\n      <td>11</td>\n    </tr>\n    <tr>\n      <th>12</th>\n      <td>13</td>\n      <td>14</td>\n      <td>15</td>\n    </tr>\n  </tbody>\n</table>\n</div>"
     },
     "metadata": {},
     "execution_count": 13
    }
   ],
   "source": [
    "df = pd.read_csv('example.csv', index_col = 0)\n",
    "#index_col says to use the column given as our index.\n",
    "df"
   ]
  },
  {
   "cell_type": "code",
   "execution_count": 15,
   "metadata": {},
   "outputs": [],
   "source": [
    "#When righting to the csv, we have to enter index as false if we don't want it to save the index which pandas created, as well.\n",
    "df.to_csv(r'C:\\Users\\sfrie\\Python\\pandas\\udemy_pandas_files\\newfile.csv', index = False)"
   ]
  }
 ]
}