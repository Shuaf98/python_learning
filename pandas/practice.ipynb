{
 "metadata": {
  "language_info": {
   "codemirror_mode": {
    "name": "ipython",
    "version": 3
   },
   "file_extension": ".py",
   "mimetype": "text/x-python",
   "name": "python",
   "nbconvert_exporter": "python",
   "pygments_lexer": "ipython3",
   "version": "3.9.1"
  },
  "orig_nbformat": 4,
  "kernelspec": {
   "name": "python3",
   "display_name": "Python 3.9.1 64-bit"
  },
  "interpreter": {
   "hash": "9b8ab61c9e77274f2d446992832627a1a97087245ff5de8b0d11c3c770be55a5"
  }
 },
 "nbformat": 4,
 "nbformat_minor": 2,
 "cells": [
  {
   "cell_type": "code",
   "execution_count": 20,
   "metadata": {},
   "outputs": [],
   "source": [
    "import pandas as pd\n",
    "import numpy as np\n",
    "exam_data  = {'name': ['Anastasia', 'Dima', 'Katherine', 'James', 'Emily', 'Michael', 'Matthew', 'Laura', 'Kevin', 'Jonas'],\n",
    "        'score': [12.5, 9, 16.5, np.nan, 9, 20, 14.5, np.nan, 8, 19],\n",
    "        'attempts': [1, 3, 2, 3, 2, 3, 1, 1, 2, 1],\n",
    "        'qualify': ['yes', 'no', 'yes', 'no', 'no', 'yes', 'yes', 'no', 'no', 'yes']}\n",
    "labels = ['a', 'b', 'c', 'd', 'e', 'f', 'g', 'h', 'i', 'j']\n",
    "\n",
    "df = pd.DataFrame(exam_data , index=labels)\n"
   ]
  },
  {
   "cell_type": "code",
   "execution_count": 30,
   "metadata": {},
   "outputs": [
    {
     "output_type": "stream",
     "name": "stdout",
     "text": [
      "        name  score  attempts qualify\na  Anastasia   12.5         1     yes\nb       Dima    9.0         3      no\nc  Katherine   16.5         2     yes\nd      James   11.5         3      no\ne      Emily    9.0         2      no\nf    Michael   20.0         3     yes\ng    Matthew   14.5         1     yes\nh      Laura    NaN         1      no\ni      Kevin    8.0         2      no\nj      Jonas   19.0         1     yes\n"
     ]
    }
   ],
   "source": [
    "df.loc['d', 'score'] = 11.5\n",
    "print(df)"
   ]
  },
  {
   "cell_type": "code",
   "execution_count": 29,
   "metadata": {},
   "outputs": [
    {
     "output_type": "execute_result",
     "data": {
      "text/plain": [
       "9.0"
      ]
     },
     "metadata": {},
     "execution_count": 29
    }
   ],
   "source": []
  },
  {
   "cell_type": "code",
   "execution_count": 37,
   "metadata": {},
   "outputs": [
    {
     "output_type": "execute_result",
     "data": {
      "text/plain": [
       "      School Index  District Lowest Year Highest Year School Income Estimate  \\\n",
       "0                1         1         1.0          1.0                    1.0   \n",
       "1           310002         2          PK            5            $26,114.78    \n",
       "2           310003         2          PK            5           $103,399.19    \n",
       "3           310004         6          PK            5            $34,684.21    \n",
       "4           310005         6          0K            5            $29,783.60    \n",
       "...            ...       ...         ...          ...                    ...   \n",
       "1242        353080        31          0K           12            $67,750.03    \n",
       "1243             1         1         1.0          1.0                    1.0   \n",
       "1244        353959        31           6           12                    NaN   \n",
       "1245        353964        31          0K            8            $48,091.89    \n",
       "1246             1         1         1.0          1.0                    1.0   \n",
       "\n",
       "     Average Proficiency Score Student Attendance Rate  \\\n",
       "0                          1.0                     1.0   \n",
       "1                          69%                     98%   \n",
       "2                          77%                     95%   \n",
       "3                          56%                     92%   \n",
       "4                          53%                     93%   \n",
       "...                        ...                     ...   \n",
       "1242                       71%                     95%   \n",
       "1243                       1.0                     1.0   \n",
       "1244                       60%                     94%   \n",
       "1245                       59%                     95%   \n",
       "1246                       1.0                     1.0   \n",
       "\n",
       "     Students Chronically Absent Rigorous Instruction  \\\n",
       "0                            1.0                  1.0   \n",
       "1                             6%                  93%   \n",
       "2                            13%                  97%   \n",
       "3                            33%                  91%   \n",
       "4                            26%                  89%   \n",
       "...                          ...                  ...   \n",
       "1242                         10%                  93%   \n",
       "1243                         1.0                  1.0   \n",
       "1244                         15%                  88%   \n",
       "1245                         14%                  89%   \n",
       "1246                         1.0                  1.0   \n",
       "\n",
       "      Year 3 - All Students Tested  Year 4 - All Students Tested  \\\n",
       "0                                1                             1   \n",
       "1                              125                           106   \n",
       "2                              105                           142   \n",
       "3                              103                           100   \n",
       "4                               90                            90   \n",
       "...                            ...                           ...   \n",
       "1242                            85                            96   \n",
       "1243                             1                             1   \n",
       "1244                             0                             0   \n",
       "1245                            42                            36   \n",
       "1246                             1                             1   \n",
       "\n",
       "      Year 5 - All Students Tested  Year 6 - All Students Tested  \\\n",
       "0                                1                             1   \n",
       "1                              104                             0   \n",
       "2                               61                             0   \n",
       "3                               81                             0   \n",
       "4                               69                             0   \n",
       "...                            ...                           ...   \n",
       "1242                           106                           101   \n",
       "1243                             1                             1   \n",
       "1244                             0                           129   \n",
       "1245                            54                             0   \n",
       "1246                             1                             1   \n",
       "\n",
       "      Year 3 - Top Scoring  Year 4 - Top Scoring  Year 5 - Top Scoring  \\\n",
       "0                        1                     1                     1   \n",
       "1                        8                    13                    11   \n",
       "2                        9                    44                    18   \n",
       "3                        3                     7                     1   \n",
       "4                        0                     7                     1   \n",
       "...                    ...                   ...                   ...   \n",
       "1242                    12                    10                     9   \n",
       "1243                     1                     1                     1   \n",
       "1244                     0                     0                     0   \n",
       "1245                     4                     5                     2   \n",
       "1246                     1                     1                     1   \n",
       "\n",
       "      Year 6 - Top Scoring Student Achievement Rating  \n",
       "0                        1                        1.0  \n",
       "1                        0             Meeting Target  \n",
       "2                        0             Meeting Target  \n",
       "3                        0         Approaching Target  \n",
       "4                        0         Approaching Target  \n",
       "...                    ...                        ...  \n",
       "1242                    16             Meeting Target  \n",
       "1243                     1                        1.0  \n",
       "1244                    10             Meeting Target  \n",
       "1245                     0         Approaching Target  \n",
       "1246                     1                        1.0  \n",
       "\n",
       "[1247 rows x 18 columns]"
      ],
      "text/html": "<div>\n<style scoped>\n    .dataframe tbody tr th:only-of-type {\n        vertical-align: middle;\n    }\n\n    .dataframe tbody tr th {\n        vertical-align: top;\n    }\n\n    .dataframe thead th {\n        text-align: right;\n    }\n</style>\n<table border=\"1\" class=\"dataframe\">\n  <thead>\n    <tr style=\"text-align: right;\">\n      <th></th>\n      <th>School Index</th>\n      <th>District</th>\n      <th>Lowest Year</th>\n      <th>Highest Year</th>\n      <th>School Income Estimate</th>\n      <th>Average Proficiency Score</th>\n      <th>Student Attendance Rate</th>\n      <th>Students Chronically Absent</th>\n      <th>Rigorous Instruction</th>\n      <th>Year 3 - All Students Tested</th>\n      <th>Year 4 - All Students Tested</th>\n      <th>Year 5 - All Students Tested</th>\n      <th>Year 6 - All Students Tested</th>\n      <th>Year 3 - Top Scoring</th>\n      <th>Year 4 - Top Scoring</th>\n      <th>Year 5 - Top Scoring</th>\n      <th>Year 6 - Top Scoring</th>\n      <th>Student Achievement Rating</th>\n    </tr>\n  </thead>\n  <tbody>\n    <tr>\n      <th>0</th>\n      <td>1</td>\n      <td>1</td>\n      <td>1.0</td>\n      <td>1.0</td>\n      <td>1.0</td>\n      <td>1.0</td>\n      <td>1.0</td>\n      <td>1.0</td>\n      <td>1.0</td>\n      <td>1</td>\n      <td>1</td>\n      <td>1</td>\n      <td>1</td>\n      <td>1</td>\n      <td>1</td>\n      <td>1</td>\n      <td>1</td>\n      <td>1.0</td>\n    </tr>\n    <tr>\n      <th>1</th>\n      <td>310002</td>\n      <td>2</td>\n      <td>PK</td>\n      <td>5</td>\n      <td>$26,114.78</td>\n      <td>69%</td>\n      <td>98%</td>\n      <td>6%</td>\n      <td>93%</td>\n      <td>125</td>\n      <td>106</td>\n      <td>104</td>\n      <td>0</td>\n      <td>8</td>\n      <td>13</td>\n      <td>11</td>\n      <td>0</td>\n      <td>Meeting Target</td>\n    </tr>\n    <tr>\n      <th>2</th>\n      <td>310003</td>\n      <td>2</td>\n      <td>PK</td>\n      <td>5</td>\n      <td>$103,399.19</td>\n      <td>77%</td>\n      <td>95%</td>\n      <td>13%</td>\n      <td>97%</td>\n      <td>105</td>\n      <td>142</td>\n      <td>61</td>\n      <td>0</td>\n      <td>9</td>\n      <td>44</td>\n      <td>18</td>\n      <td>0</td>\n      <td>Meeting Target</td>\n    </tr>\n    <tr>\n      <th>3</th>\n      <td>310004</td>\n      <td>6</td>\n      <td>PK</td>\n      <td>5</td>\n      <td>$34,684.21</td>\n      <td>56%</td>\n      <td>92%</td>\n      <td>33%</td>\n      <td>91%</td>\n      <td>103</td>\n      <td>100</td>\n      <td>81</td>\n      <td>0</td>\n      <td>3</td>\n      <td>7</td>\n      <td>1</td>\n      <td>0</td>\n      <td>Approaching Target</td>\n    </tr>\n    <tr>\n      <th>4</th>\n      <td>310005</td>\n      <td>6</td>\n      <td>0K</td>\n      <td>5</td>\n      <td>$29,783.60</td>\n      <td>53%</td>\n      <td>93%</td>\n      <td>26%</td>\n      <td>89%</td>\n      <td>90</td>\n      <td>90</td>\n      <td>69</td>\n      <td>0</td>\n      <td>0</td>\n      <td>7</td>\n      <td>1</td>\n      <td>0</td>\n      <td>Approaching Target</td>\n    </tr>\n    <tr>\n      <th>...</th>\n      <td>...</td>\n      <td>...</td>\n      <td>...</td>\n      <td>...</td>\n      <td>...</td>\n      <td>...</td>\n      <td>...</td>\n      <td>...</td>\n      <td>...</td>\n      <td>...</td>\n      <td>...</td>\n      <td>...</td>\n      <td>...</td>\n      <td>...</td>\n      <td>...</td>\n      <td>...</td>\n      <td>...</td>\n      <td>...</td>\n    </tr>\n    <tr>\n      <th>1242</th>\n      <td>353080</td>\n      <td>31</td>\n      <td>0K</td>\n      <td>12</td>\n      <td>$67,750.03</td>\n      <td>71%</td>\n      <td>95%</td>\n      <td>10%</td>\n      <td>93%</td>\n      <td>85</td>\n      <td>96</td>\n      <td>106</td>\n      <td>101</td>\n      <td>12</td>\n      <td>10</td>\n      <td>9</td>\n      <td>16</td>\n      <td>Meeting Target</td>\n    </tr>\n    <tr>\n      <th>1243</th>\n      <td>1</td>\n      <td>1</td>\n      <td>1.0</td>\n      <td>1.0</td>\n      <td>1.0</td>\n      <td>1.0</td>\n      <td>1.0</td>\n      <td>1.0</td>\n      <td>1.0</td>\n      <td>1</td>\n      <td>1</td>\n      <td>1</td>\n      <td>1</td>\n      <td>1</td>\n      <td>1</td>\n      <td>1</td>\n      <td>1</td>\n      <td>1.0</td>\n    </tr>\n    <tr>\n      <th>1244</th>\n      <td>353959</td>\n      <td>31</td>\n      <td>6</td>\n      <td>12</td>\n      <td>NaN</td>\n      <td>60%</td>\n      <td>94%</td>\n      <td>15%</td>\n      <td>88%</td>\n      <td>0</td>\n      <td>0</td>\n      <td>0</td>\n      <td>129</td>\n      <td>0</td>\n      <td>0</td>\n      <td>0</td>\n      <td>10</td>\n      <td>Meeting Target</td>\n    </tr>\n    <tr>\n      <th>1245</th>\n      <td>353964</td>\n      <td>31</td>\n      <td>0K</td>\n      <td>8</td>\n      <td>$48,091.89</td>\n      <td>59%</td>\n      <td>95%</td>\n      <td>14%</td>\n      <td>89%</td>\n      <td>42</td>\n      <td>36</td>\n      <td>54</td>\n      <td>0</td>\n      <td>4</td>\n      <td>5</td>\n      <td>2</td>\n      <td>0</td>\n      <td>Approaching Target</td>\n    </tr>\n    <tr>\n      <th>1246</th>\n      <td>1</td>\n      <td>1</td>\n      <td>1.0</td>\n      <td>1.0</td>\n      <td>1.0</td>\n      <td>1.0</td>\n      <td>1.0</td>\n      <td>1.0</td>\n      <td>1.0</td>\n      <td>1</td>\n      <td>1</td>\n      <td>1</td>\n      <td>1</td>\n      <td>1</td>\n      <td>1</td>\n      <td>1</td>\n      <td>1</td>\n      <td>1.0</td>\n    </tr>\n  </tbody>\n</table>\n<p>1247 rows × 18 columns</p>\n</div>"
     },
     "metadata": {},
     "execution_count": 37
    }
   ],
   "source": [
    "df = pd.read_csv(r\"C:\\Users\\sfrie\\Ydata_practice\\Test_2\\attempt2_test2\\schools (1).csv\")\n",
    "df.loc[df['Student Achievement Rating'] == 'Exceeding Target'] = 1.0\n",
    "df"
   ]
  },
  {
   "cell_type": "code",
   "execution_count": 57,
   "metadata": {},
   "outputs": [
    {
     "output_type": "execute_result",
     "data": {
      "text/plain": [
       "331321"
      ]
     },
     "metadata": {},
     "execution_count": 57
    }
   ],
   "source": [
    "int(df.loc[df['Year 5 - Top Scoring']== df['Year 5 - Top Scoring'].max(), ['School Index']].values)"
   ]
  },
  {
   "cell_type": "code",
   "execution_count": 41,
   "metadata": {},
   "outputs": [
    {
     "output_type": "execute_result",
     "data": {
      "text/plain": [
       "67"
      ]
     },
     "metadata": {},
     "execution_count": 41
    }
   ],
   "source": [
    "df['Year 5 - Top Scoring'].max()"
   ]
  },
  {
   "cell_type": "code",
   "execution_count": null,
   "metadata": {},
   "outputs": [],
   "source": []
  }
 ]
}