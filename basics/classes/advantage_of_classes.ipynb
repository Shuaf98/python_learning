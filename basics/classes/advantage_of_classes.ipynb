{
 "cells": [
  {
   "cell_type": "markdown",
   "metadata": {},
   "source": [
    "Classes are the pillar of Object Oriented Programming. OOP is highly concerned with code organization, reusability, and encapsulation.\n",
    "\n",
    "First, a disclaimer: OOP is partially in contrast to Functional Programming, which is a different paradigm used a lot in Python. Not everyone who programs in Python (or surely most languages) uses OOP. You can do a lot in Java 8 that isn't very Object Oriented. If you don't want to use OOP, then don't. If you're just writing one-off scripts to process data that you'll never use again, then keep writing the way you are.\n",
    "\n",
    "However, there are a lot of reasons to use OOP.\n",
    "\n",
    "Some reasons:\n",
    "\n",
    "Organization: OOP defines well known and standard ways of describing and defining both data and procedure in code. Both data and procedure can be stored at varying levels of definition (in different classes), and there are standard ways about talking about these definitions. That is, if you use OOP in a standard way, it will help your later self and others understand, edit, and use your code. Also, instead of using a complex, arbitrary data storage mechanism (dicts of dicts or lists or dicts or lists of dicts of sets, or whatever), you can name pieces of data structures and conveniently refer to them.\n",
    "\n",
    "State: OOP helps you define and keep track of state. For instance, in a classic example, if you're creating a program that processes students (for instance, a grade program), you can keep all the info you need about them in one spot (name, age, gender, grade level, courses, grades, teachers, peers, diet, special needs, etc.), and this data is persisted as long as the object is alive, and is easily accessible.\n",
    "\n",
    "Encapsulation: With encapsulation, procedure and data are stored together. Methods (an OOP term for functions) are defined right alongside the data that they operate on and produce. In a language like Java that allows for access control, or in Python, depending upon how you describe your public API, this means that methods and data can be hidden from the user. What this means is that if you need or want to change code, you can do whatever you want to the implementation of the code, but keep the public APIs the same.\n",
    "\n",
    "Inheritance: Inheritance allows you to define data and procedure in one place (in one class), and then override or extend that functionality later. For instance, in Python, I often see people creating subclasses of the dict class in order to add additional functionality. A common change is overriding the method that throws an exception when a key is requested from a dictionary that doesn't exist to give a default value based on an unknown key. This allows you to extend your own code now or later, allow others to extend your code, and allows you to extend other people's code.\n",
    "\n",
    "Reusability: All of these reasons and others allow for greater reusability of code. Object oriented code allows you to write solid (tested) code once, and then reuse over and over. If you need to tweak something for your specific use case, you can inherit from an existing class and overwrite the existing behavior. If you need to change something, you can change it all while maintaining the existing public method signatures, and no one is the wiser (hopefully).\n",
    "\n",
    "Again, there are several reasons not to use OOP, and you don't need to. But luckily with a language like Python, you can use just a little bit or a lot, it's up to you.\n",
    "\n",
    "An example of the student use case (no guarantee on code quality, just an example):"
   ]
  },
  {
   "cell_type": "markdown",
   "metadata": {},
   "source": [
    "### Object Oriented\n",
    "\n"
   ]
  },
  {
   "cell_type": "code",
   "execution_count": 1,
   "metadata": {},
   "outputs": [
    {
     "name": "stdout",
     "output_type": "stream",
     "text": [
      "3.3\n",
      "3.5\n"
     ]
    }
   ],
   "source": [
    "class Student(object):\n",
    "    def __init__(self, name, age, gender, level, grades=None):\n",
    "        self.name = name\n",
    "        self.age = age\n",
    "        self.gender = gender\n",
    "        self.level = level\n",
    "        self.grades = grades or {}\n",
    "\n",
    "    def setGrade(self, course, grade):\n",
    "        self.grades[course] = grade\n",
    "\n",
    "    def getGrade(self, course):\n",
    "        return self.grades[course]\n",
    "\n",
    "    def getGPA(self):\n",
    "        return sum(self.grades.values())/len(self.grades)\n",
    "\n",
    "# Define some students\n",
    "john = Student(\"John\", 12, \"male\", 6, {\"math\":3.3})\n",
    "jane = Student(\"Jane\", 12, \"female\", 6, {\"math\":3.5})\n",
    "\n",
    "# Now we can get to the grades easily\n",
    "print(john.getGPA())\n",
    "print(jane.getGPA())"
   ]
  },
  {
   "cell_type": "markdown",
   "metadata": {},
   "source": [
    "### Standard Dict\n"
   ]
  },
  {
   "cell_type": "code",
   "execution_count": null,
   "metadata": {},
   "outputs": [],
   "source": [
    "def calculateGPA(gradeDict):\n",
    "    return sum(gradeDict.values())/len(gradeDict)\n",
    "\n",
    "students = {}\n",
    "# We can set the keys to variables so we might minimize typos\n",
    "name, age, gender, level, grades = \"name\", \"age\", \"gender\", \"level\", \"grades\"\n",
    "john, jane = \"john\", \"jane\"\n",
    "math = \"math\"\n",
    "students[john] = {}\n",
    "students[john][age] = 12\n",
    "students[john][gender] = \"male\"\n",
    "students[john][level] = 6\n",
    "students[john][grades] = {math:3.3}\n",
    "\n",
    "students[jane] = {}\n",
    "students[jane][age] = 12\n",
    "students[jane][gender] = \"female\"\n",
    "students[jane][level] = 6\n",
    "students[jane][grades] = {math:3.5}\n",
    "\n",
    "# At this point, we need to remember who the students are and where the grades are stored. Not a huge deal, but avoided by OOP.\n",
    "print(calculateGPA(students[john][grades]))\n",
    "print(calculateGPA(students[jane][grades]))\n"
   ]
  }
 ],
 "metadata": {
  "interpreter": {
   "hash": "9b8ab61c9e77274f2d446992832627a1a97087245ff5de8b0d11c3c770be55a5"
  },
  "kernelspec": {
   "display_name": "Python 3.9.1 64-bit",
   "name": "python3"
  },
  "language_info": {
   "codemirror_mode": {
    "name": "ipython",
    "version": 3
   },
   "file_extension": ".py",
   "mimetype": "text/x-python",
   "name": "python",
   "nbconvert_exporter": "python",
   "pygments_lexer": "ipython3",
   "version": "3.9.1"
  },
  "orig_nbformat": 4
 },
 "nbformat": 4,
 "nbformat_minor": 2
}
