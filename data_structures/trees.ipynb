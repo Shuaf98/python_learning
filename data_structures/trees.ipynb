{
 "cells": [
  {
   "cell_type": "code",
   "execution_count": 1,
   "metadata": {},
   "outputs": [],
   "source": [
    "class TreeNode():\n",
    "    def __init__(self, data):\n",
    "        self.data = data #Data stores the name assigned to the node\n",
    "        self.children = [] \n",
    "        self.parent = None #At initialization, the root has no parent.\n",
    "        \n",
    "\n",
    "    def add_child(self, child):\n",
    "        child.parent = self #The parent of the child passed in is self-- the instance which add_child is being called on.\n",
    "        self.children.append(child)\n",
    "\n",
    "    def get_level(self):\n",
    "        level = 0\n",
    "        p = self.parent\n",
    "        while p: #While there are parents\n",
    "            level+=1\n",
    "            p = p.parent\n",
    "        return level\n",
    "\n",
    "    def print_tree(self):\n",
    "        level = self.get_level()\n",
    "        spaces = ' '*level\n",
    "        if level > 0:\n",
    "            spaces = spaces*2 + ' '*level + f' {level} '\n",
    "        print(spaces + self.data)\n",
    "        \n",
    "        # print(' '*level*3,'|', level, self.data) #print the name of self.\n",
    "        if self.children: #equals true\n",
    "            for child in self.children:\n",
    "                child.print_tree() #print the name of all its children\n",
    "                \n",
    "\n",
    "def buildTree():\n",
    "    root = TreeNode(\"Electronics\")\n",
    "\n",
    "    laptop = TreeNode(\"Laptop\")\n",
    "    laptop.add_child(TreeNode(\"Mac\"))\n",
    "    laptop.add_child(TreeNode(\"Surface\"))\n",
    "    laptop.add_child(TreeNode(\"Thinkpad\"))\n",
    "\n",
    "    cellphone = TreeNode(\"Cell Phone\")\n",
    "    cellphone.add_child(TreeNode(\"iPhone\"))\n",
    "    cellphone.add_child(TreeNode(\"Google Pixel\"))\n",
    "    cellphone.add_child(TreeNode(\"Vivo\"))\n",
    "\n",
    "    tv = TreeNode(\"TV\")\n",
    "    tv.add_child(TreeNode(\"Samsung\"))\n",
    "    tv.add_child(TreeNode(\"LG\"))\n",
    "\n",
    "    root.add_child(laptop)\n",
    "    root.add_child(cellphone)\n",
    "    root.add_child(tv)\n",
    "\n",
    "    # root.print_tree()\n",
    "    return root\n",
    "\n"
   ]
  },
  {
   "cell_type": "code",
   "execution_count": 6,
   "metadata": {},
   "outputs": [
    {
     "name": "stdout",
     "output_type": "stream",
     "text": [
      "Electronics\n",
      "    1 Laptop\n",
      "       2 Mac\n",
      "       2 Surface\n",
      "       2 Thinkpad\n",
      "    1 Cell Phone\n",
      "       2 iPhone\n",
      "       2 Google Pixel\n",
      "       2 Vivo\n",
      "    1 TV\n",
      "       2 Samsung\n",
      "       2 LG\n"
     ]
    }
   ],
   "source": [
    "tree = buildTree()\n",
    "tree.print_tree()"
   ]
  },
  {
   "cell_type": "code",
   "execution_count": 66,
   "metadata": {},
   "outputs": [
    {
     "name": "stdout",
     "output_type": "stream",
     "text": [
      "['Mac', 'Surface', 'Thinkpad']\n",
      "['iPhone', 'Google Pixel', 'Vivo']\n",
      "['Samsung', 'LG']\n"
     ]
    }
   ],
   "source": [
    "electronics = {'Laptop': [\"Mac\", \"Surface\", \"Thinkpad\"], \"Cell Phone\": [\"iPhone\", \"Google Pixel\", \"Vivo\"], \"TV\": [\"Samsung\", \"LG\"] }\n",
    "\n",
    "for x in electronics:\n",
    "    print(electronics[x])"
   ]
  },
  {
   "cell_type": "markdown",
   "metadata": {},
   "source": [
    "Binary Tree"
   ]
  },
  {
   "cell_type": "code",
   "execution_count": 49,
   "metadata": {},
   "outputs": [],
   "source": [
    "class BinarySearchNode():\n",
    "    def __init__(self, data):\n",
    "        self.data = data \n",
    "        self.left = None \n",
    "        self.right = None\n",
    "    \n",
    "    def add_child(self, data):\n",
    "        \n",
    "        if data == self.data: #For unique sortingalgorithm: Need to check the value: If the value already exists, we don't continue-- we don't want duplicates \n",
    "            return\n",
    "\n",
    "        if data < self.data: #Condition: If new data is less than the parent node\n",
    "            if self.left: #Check that our left element is not a leaf node\n",
    "                self.left.add_child(data) #If it self.left has a child, add data as a child to self.left's child.\n",
    "            else:\n",
    "                self.left = BinarySearchNode(data) #If the left node is empty though, then it is already a leaf. We designate it as a node, with left and right = None.\n",
    "        else:\n",
    "            if self.right:\n",
    "                self.right.add_child(data)\n",
    "            else:\n",
    "                self.right = BinarySearchNode(data)\n",
    "    \n",
    "\n",
    "    def in_order_traversal(self): #SORTING ALGORITHM\n",
    "        elements = []\n",
    "        #We sort from smallest to largest, so start with left tree\n",
    "        if self.left:\n",
    "            elements += self.left.in_order_traversal() #This iterates until we get to the bottom most left node, adds that node, then recursively adds the previous ones to our list.\n",
    "        \n",
    "        #Once we are done adding each left node, we have reached the root. Now, we add the root:\n",
    "        elements.append(self.data)\n",
    "\n",
    "        if self.right:\n",
    "            elements += self.right.in_order_traversal()\n",
    "        \n",
    "        return elements\n",
    "\n",
    "    def pre_order_traversal(self):\n",
    "        elements = []\n",
    "        elements.append( self.data)\n",
    "\n",
    "        if self.left:\n",
    "            elements += self.left.post_order_traversal()\n",
    "        \n",
    "        if self.right:\n",
    "            elements += self.right.pre_order_traversal()\n",
    "\n",
    "        return elements\n",
    "\n",
    "    def post_order_traversal(self): #(Left, then Right, then node)\n",
    "        elements = []\n",
    "        \n",
    "        if self.left: #If there are left children, traverse through them (which will start by adding that child, then continue to traverse through t)\n",
    "            elements += self.left.post_order_traversal()\n",
    "        \n",
    "        if self.right:\n",
    "            elements += self.right.post_order_traversal()\n",
    "\n",
    "        elements.append( self.data) #Add current root\n",
    "\n",
    "        return elements\n",
    "        \n",
    "def build_tree(elements):\n",
    "    root = BinarySearchNode(elements[0])\n",
    "\n",
    "    for i in range(1, len(elements)):\n",
    "        root.add_child(elements[i])\n",
    "    return root\n",
    "    "
   ]
  },
  {
   "cell_type": "code",
   "execution_count": 50,
   "metadata": {},
   "outputs": [
    {
     "name": "stdout",
     "output_type": "stream",
     "text": [
      "[3, 4, 6, 7, 8, 12, 16]\n",
      "[6, 3, 4, 7, 16, 8, 12]\n",
      "[3, 4, 8, 12, 16, 7, 6]\n"
     ]
    }
   ],
   "source": [
    "numbers = [6,4,7,4,16,12,8,3]\n",
    "\n",
    "numbers_tree = build_tree(numbers)\n",
    "print(numbers_tree.in_order_traversal())\n",
    "print(numbers_tree.pre_order_traversal())\n",
    "print(numbers_tree.post_order_traversal())\n"
   ]
  }
 ],
 "metadata": {
  "interpreter": {
   "hash": "b162208df198174479ad95a41e45bdbc61ac18b751563f663467e26bbab6bd1e"
  },
  "kernelspec": {
   "display_name": "Python 3.7.10 64-bit ('py4dp': conda)",
   "language": "python",
   "name": "python3"
  },
  "language_info": {
   "codemirror_mode": {
    "name": "ipython",
    "version": 3
   },
   "file_extension": ".py",
   "mimetype": "text/x-python",
   "name": "python",
   "nbconvert_exporter": "python",
   "pygments_lexer": "ipython3",
   "version": "3.7.10"
  },
  "orig_nbformat": 4
 },
 "nbformat": 4,
 "nbformat_minor": 2
}
