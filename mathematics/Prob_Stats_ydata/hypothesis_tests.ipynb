{
 "cells": [
  {
   "cell_type": "markdown",
   "metadata": {},
   "source": []
  },
  {
   "cell_type": "markdown",
   "metadata": {},
   "source": [
    "## Two Sided Test"
   ]
  },
  {
   "cell_type": "markdown",
   "metadata": {},
   "source": [
    "### Example:\n",
    "You own a chain of scooter rental stations called Scooters Get You There. There are 20 locations in the center of the city and each one has a maximum of 50 electric scooters. You want to test the hypothesis that in the past month there were on average 30 scooters available at any station during the day. An urban group called 'Squirrel' highlighted the importance of this number in their study of resident mobility. (If there are fewer scooters at the station, users will think that they won’t be able to rent one when they need one—but when there are more, people think that they won’t be able to dock their scooter after a trip because there won’t be any free spaces.)\n",
    "Every hour, each station sends the number of available scooters to the server. You have downloaded the numbers from 1 pm to 4 pm for the past 30 days. Test your hypothesis using this sample."
   ]
  },
  {
   "cell_type": "code",
   "execution_count": null,
   "metadata": {},
   "outputs": [],
   "source": [
    "from scipy import stats as st\n",
    "import pandas as pd\n",
    "\n",
    "scooters = pd.Series([15, 31, 10, 21, 21, 32, 30, 25, 21,\n",
    "28, 25, 32, 38, 18, 33, 24, 26, 40, 24, 37, 20, 36, 28, 38,\n",
    "24, 35, 33, 21, 29, 26, 13, 25, 34, 38, 23, 37, 31, 28, 32,\n",
    "24, 25, 13, 38, 34, 48, 19, 20, 22, 38, 28, 31, 18, 21, 24,\n",
    "31, 21, 28, 29, 33, 40, 26, 33, 33,  6, 27, 24, 17, 28,  7,\n",
    "33, 25, 25, 29, 19, 30, 29, 22, 15, 28, 36, 25, 36, 25, 29,\n",
    "33, 19, 32, 32, 28, 26, 18, 48, 15, 27, 27, 27,  0, 28, 39,\n",
    "27, 25, 39, 28, 22, 33, 30, 35, 19, 20, 18, 31, 44, 20, 18,\n",
    "17, 28, 17, 44, 40, 33,])\n",
    "\n",
    "optimal_value = 30 # write your code here\n",
    "\n",
    "alpha = 0.05 # write your code here\n",
    "\n",
    "results = st.ttest_1samp(scooters, optimal_value) # write your code here\n",
    "print(results)\n",
    "print('p-value: ', results.pvalue)# write your code here)\n",
    "\n",
    "if results.pvalue < alpha: # write your code here):\n",
    "    print('We reject the null hypothesis')\n",
    "else:\n",
    "    print(\"We can't reject the null hypothesis\")"
   ]
  },
  {
   "cell_type": "markdown",
   "metadata": {},
   "source": [
    "## One Sided Test\n",
    "There’s no special method for one-sided tests in Python, although there is one for two-sided tests. If you do need a one-sided test, conduct a two-sided one and divide the p-value by 2. "
   ]
  },
  {
   "cell_type": "markdown",
   "metadata": {},
   "source": [
    "When you test the hypothesis, compare the sample mean with the predicted value — is the former greater than the latter? When the alternative hypothesis states that the real value is less than the predicted one, but the sample mean is greater (by any amount), there’s no basis for rejecting the null hypothesis for the alternative hypothesis. But if the observed value is less than the predicted value, apply a statistical test.\n",
    "\n",
    "### Example\n",
    "You’re selling watermelons online. In order to sell them all before the season ends, you had some web-development contractors create a landing page called Watermelon Life. Looking at the stats, you noticed that the longer people scrolled through your website (the more blocks they viewed), the more often they bought watermelons. The average number of blocks viewed was 4.867.\n",
    "On the designers' insistence, you changed the first few blocks to comply with new guidelines, and the number of orders didn't change. But maybe users starting making purchases more quickly. Let's check to see if that's the case: If it is, users should decide to make purchases after viewing only the first few blocks of the landing page, so the number of blocks they scroll through should be lower now.\n",
    "We’ll use a sample of 100 randomly selected buyers. The dataset is the number of landing page blocks viewed.\n",
    "\n"
   ]
  },
  {
   "cell_type": "code",
   "execution_count": 1,
   "metadata": {},
   "outputs": [
    {
     "name": "stdout",
     "output_type": "stream",
     "text": [
      "p-value:  1.3358596895543794e-06\n",
      "We reject the null hypothesis\n"
     ]
    }
   ],
   "source": [
    "from scipy import stats as st\n",
    "import pandas as pd\n",
    "\n",
    "screens = pd.Series([4, 2, 4, 5, 5, 4, 2, 3, 3, 5, 2, 5, 2, 2, 2, 3, 3, 4, 8, 3, 4, 3, 5, 5, 4, 2, 5, 2, 3, 7, 5, 5, 6,  5, 3, 4, 3, 6, 3, 4, 4, 3, 5, 4, 4, 8, 4, 7, 4, 5, 5, 3, 4, 6, 7, 2, 3, 6, 5, 6, 4, 4, 3, 4, 6, 4, 4, 6, 2, 6, 5, 3, 3, 3, 4, 5, 3, 5, 5, 4, 3, 3, 3, 1, 5, 4, 3, 4, 6, 3, 1, 3, 2, 7, 3, 6, 6, 6, 5, 5])\n",
    "\n",
    "prev_screens_value = 4.867\n",
    "\n",
    "alpha = 0.05  # critical statistical significance level\n",
    "\n",
    "results = st.ttest_1samp(screens, prev_screens_value)\n",
    "\n",
    "# one-sided test: p-value will be halved\n",
    "print('p-value: ', results.pvalue / 2)\n",
    "\n",
    "# one-sided test to the left:\n",
    "# reject the hypothesis only if the sample mean is significantly less than the predicted value\n",
    "if (results.pvalue / 2 < alpha) and (screens.mean() < prev_screens_value):\n",
    "    print(\"We reject the null hypothesis\")\n",
    "else:\n",
    "    print(\"We can't reject the null hypothesis\") "
   ]
  },
  {
   "cell_type": "markdown",
   "metadata": {},
   "source": [
    "As you see from the code, in a one-sided test with the alternative hypothesis “The number of blocks viewed decreased,” the null hypothesis is rejected if two conditions are met:\n",
    "    1) The observed value is less than the one predicted. \n",
    "    2) The difference between the values is statistically significant (we divide the p-value we got from the two-sided test by 2)."
   ]
  },
  {
   "cell_type": "markdown",
   "metadata": {},
   "source": [
    "### Example 2\n",
    "On June 1, 2019, you took a course with a famous coach and entrepreneur named Robby Tobbinson. If you apply his signature mindful-business techniques, your online project is guaranteed to bring in at least $800 a day. Maybe more. In just one month. He promises.\n",
    "Promises are good, but statistical tests are better. Let's see what the numbers tell us.\n",
    "Use a data set with daily revenue for the past month to test your hypothesis. The hypothesis is that your average daily revenue equaled or exceeded $800.\n",
    "Remember: the hypothesis containing the equal sign is usually the null hypothesis. Therefore, “Everything will work out like the coach predicted” is your null hypothesis, and “Revenue will be less than what was predicted” is the alternative hypothesis. Random deviations are always possible. You can only say “Tobbinson’s methodology didn’t work!” if your revenue is significantly lower than the proposed amount."
   ]
  },
  {
   "cell_type": "code",
   "execution_count": 1,
   "metadata": {},
   "outputs": [
    {
     "name": "stdout",
     "output_type": "stream",
     "text": [
      "p-value: 1.7869152078905524e-22\n",
      "We reject the null hypothesis: revenue was significantly lower than 800 dollars\n"
     ]
    }
   ],
   "source": [
    "from scipy import stats as st\n",
    "import numpy as np\n",
    "import pandas as pd\n",
    "\n",
    "revenue = pd.Series([727, 678, 685, 669, 661, 705, 701, 717, \n",
    "                     655,643, 660, 709, 701, 681, 716, 655, \n",
    "                     716, 695, 684, 687, 669,647, 721, 681, \n",
    "                     674, 641, 704, 717, 656, 725, 684, 665])\n",
    "\n",
    "interested_value = 800 # how much did Robby Tobbinson promise?\n",
    "\n",
    "alpha = 0.05 # indicate the statistical significance level\n",
    "\n",
    "results = st.ttest_1samp(revenue, interested_value) # use the method st.ttest_1samp\n",
    "\n",
    "print('p-value:', results.pvalue /2) # print the p-value for a one-sided test)\n",
    "\n",
    "if (results.pvalue / 2 < alpha) and (revenue.mean() < interested_value): # compare the value you get and the critical statistical significance level\n",
    "    # and check to see if the sample mean is on the correct side of interested_value):\n",
    "    \n",
    "    print(\"We reject the null hypothesis: revenue was significantly lower than 800 dollars\")\n",
    "else:\n",
    "    print(\"We can't reject the null hypothesis: revenue wasn't significantly lower\")"
   ]
  },
  {
   "cell_type": "markdown",
   "metadata": {},
   "source": [
    "## Hypothesis on the Equality of Two Population Means\n",
    "Sometimes you need to compare the means of two different statistical populations.\n",
    "If you want to determine if average spending varies for customers coming from different channels, it's not enough to simply compare the numbers for a given period. Until you carry out the correct test, you can’t say that the difference between the means is random, and you also can't say that the difference is large enough to posit that spending between the two populations does indeed vary (i.e. that the difference is significant).\n",
    "\n",
    "Let’s say the average purchase amount from the first channel is $20, and the average from the second channel is $25. Is the difference between these numbers significant? That depends on the variance of the samples the values are calculated from. Instead of basing your comparison on the averages alone, use the data sets to perform a statistical test.\n",
    "\n",
    "In order to test your hypothesis that the means of the two statistical populations are equal based on samples taken from them, apply the method scipy.stats.ttest_ind(array1, array2, equal_var).\n",
    "We pass these parameters to the method:\n",
    "\n",
    "array1, array2 are arrays containing the samples\n",
    "equal_var (from equal variance) is a parameter that specifies whether or not the variances of the populations should be considered equal. It’s passed as equal_var = True or equal_var = False (True means we consider the variances equal, False means we don't).\n",
    "\n",
    "Is there any reason to believe that the samples are taken from populations with similar parameters? If so, then set this parameter to True, and the variance of each sample will be estimated from the two samples' combined data set, not separately for each.\n",
    "\n",
    "We do this in order to get the most accurate results. However, we only do this if the variances of the statistical populations from which the samples are taken are approximately equal. Otherwise, we need to set the parameter to False; it’s True by default (if you don’t set it).\n",
    "Example: there are two data sets: the amount spent on purchases made in one month by visitors coming from two different channels. You have a random sample of 30 purchases from each channel."
   ]
  },
  {
   "cell_type": "markdown",
   "metadata": {},
   "source": [
    "### Example: \n",
    "There are two data sets: the amount spent on purchases made in one month by visitors coming from two different channels. You have a random sample of 30 purchases from each channel."
   ]
  },
  {
   "cell_type": "code",
   "execution_count": 3,
   "metadata": {},
   "outputs": [
    {
     "name": "stdout",
     "output_type": "stream",
     "text": [
      "p-value:  0.19124505225722097\n",
      "We can't reject the null hypothesis\n"
     ]
    }
   ],
   "source": [
    "from scipy import stats as st\n",
    "import numpy as np\n",
    "\n",
    "sample_1 = [3071, 3636, 3454, 3151, 2185, 3259, 1727, 2263, 2015, \n",
    "            2582, 4815, 633, 3186, 887, 2028, 3589, 2564, 1422, 1785, \n",
    "            3180, 1770, 2716, 2546, 1848, 4644, 3134, 475, 2686, \n",
    "            1838, 3352]\n",
    "sample_2 = [1211, 1228, 2157, 3699, 600, 1898, 1688, 1420, 5048, 3007, \n",
    "            509, 3777, 5583, 3949, 121, 1674, 4300, 1338, 3066, \n",
    "            3562, 1010, 2311, 462, 863, 2021, 528, 1849, 255, \n",
    "            1740, 2596]\n",
    "\n",
    "alpha = 0.05  # critical statistical significance level\n",
    "# if the p-value is less than alpha, we reject the hypothesis\n",
    "\n",
    "results = st.ttest_ind(sample_1, sample_2)\n",
    "\n",
    "print('p-value: ', results.pvalue)\n",
    "\n",
    "if results.pvalue < alpha:\n",
    "    print(\"We reject the null hypothesis\")\n",
    "else:\n",
    "    print(\"We can't reject the null hypothesis\") \n"
   ]
  },
  {
   "cell_type": "markdown",
   "metadata": {},
   "source": [
    "The p-value tells us that although the average amounts for the two channels are different, there is a 20% probability of randomly getting a difference that size or larger. This probability is clearly too high to conclude that there is a significant difference between the average amounts spent."
   ]
  },
  {
   "cell_type": "markdown",
   "metadata": {},
   "source": [
    "### Example 2\n",
    "\n",
    "There are two data sets: the average time spent on a website 1) for users who sign in with usernames and passwords, and 2) for users signing in through social media. Test the hypothesis that both user groups spend the same amount of time on the website."
   ]
  },
  {
   "cell_type": "code",
   "execution_count": 4,
   "metadata": {},
   "outputs": [
    {
     "name": "stdout",
     "output_type": "stream",
     "text": [
      "p-value: 0.0010501061456827461\n",
      "We reject the null hypothesis\n"
     ]
    }
   ],
   "source": [
    "from scipy import stats as st\n",
    "import numpy as np\n",
    "\n",
    "# time spent on the website by users with a username and password\n",
    "time_on_site_logpass = [368, 113, 328, 447, 1, 156, 335, 233, \n",
    "                       308, 181, 271, 239, 411, 293, 303, \n",
    "                       206, 196, 203, 311, 205, 297, 529, \n",
    "                       373, 217, 416, 206, 1, 128, 16, 214]\n",
    "\n",
    "# time spent on the website by users signing in through social media\n",
    "time_on_site_social  = [451, 182, 469, 546, 396, 630, 206, \n",
    "                        130, 45, 569, 434, 321, 374, 149, \n",
    "                        721, 350, 347, 446, 406, 365, 203, \n",
    "                        405, 631, 545, 584, 248, 171, 309, \n",
    "                        338, 505]\n",
    "\n",
    "\n",
    "# your code goes below\n",
    "\n",
    "alpha = 0.05 # your code: set a critical statistical significance level\n",
    "\n",
    "results = st.ttest_ind(time_on_site_logpass,time_on_site_social)  # your code: test the hypothesis that the means of the two independent populations are equal\n",
    "\n",
    "print('p-value:', results.pvalue) # your code: print the p-value you get)\n",
    "\n",
    "if results.pvalue < alpha: # your code: compare the p-values you get with the statistical significance level):\n",
    "    print(\"We reject the null hypothesis\")\n",
    "else:\n",
    "    print(\"We can't reject the null hypothesis\")"
   ]
  },
  {
   "cell_type": "markdown",
   "metadata": {},
   "source": [
    "Turns out that the time spent on the website is depenedent on the login method."
   ]
  },
  {
   "cell_type": "markdown",
   "metadata": {},
   "source": [
    "## Hypothesis on the Equality of the Means of Paired Samples-- Change in One Sample's Mean\n",
    "When we’re working with one statistical population, it’s useful to know if changes have an effect on the population’s mean. We'll use paired samples, which means that we’re measuring a variable for the same units. We have a pair of measurements for each user: before and after the changes.\n"
   ]
  },
  {
   "cell_type": "markdown",
   "metadata": {},
   "source": [
    "### Example 1\n",
    "Let's see if the weights of packages ordered by customers changed when you changed the method for calculating shipping costs.\n",
    "\n",
    "In order to test the hypothesis that the means of two populations are equal for dependent (paired) samples in Python, we need to use the function scipy.stats.ttest_rel().\n",
    "\n",
    "It only needs two parameters: arrays with data from before and after. The arrays must be the same size.\n",
    "We have two data sets: package weight, in grams, before changing the method of calculating shipping, and the weight after (for the same repeat customers). We'll test the hypothesis that the package weight didn’t change, even though the method for calculating shipping did."
   ]
  },
  {
   "cell_type": "code",
   "execution_count": 6,
   "metadata": {},
   "outputs": [
    {
     "name": "stdout",
     "output_type": "stream",
     "text": [
      "p-value:  0.005825972457958989\n",
      "We reject the null hypothesis\n"
     ]
    }
   ],
   "source": [
    "from scipy import stats as st\n",
    "import numpy as np\n",
    "\n",
    "before = [157, 114, 152, 355, 155, 513, 299, 268, 164, 320, \n",
    "                    192, 262, 506, 240, 364, 179, 246, 427, 187, 431, \n",
    "                    320, 193, 313, 347, 312, 92, 177, 225, 242, 312]\n",
    "\n",
    "after = [282, 220, 162, 226, 296, 479, 248, 322, 298, 418, \n",
    "                 552, 246, 251, 404, 368, 484, 358, 264, 359, 410, \n",
    "                 382, 350, 406, 416, 438, 364, 283, 314, 420, 218]\n",
    "\n",
    "alpha = 0.05  # critical statistical significance level\n",
    "\n",
    "results = st.ttest_rel(before, after)\n",
    "\n",
    "print('p-value: ', results.pvalue)\n",
    "\n",
    "if results.pvalue < alpha:\n",
    "    print(\"We reject the null hypothesis\")\n",
    "else:\n",
    "    print(\"We can't reject the null hypothesis\") "
   ]
  },
  {
   "cell_type": "markdown",
   "metadata": {},
   "source": [
    "The data provides sufficient evidence, given the significance level we selected, to reject the null hypothesis. Therefore, we can conclude that there's been in a change in package weights."
   ]
  },
  {
   "cell_type": "markdown",
   "metadata": {},
   "source": [
    "### Example 2: One Way Test\n",
    "We have two datasets: the number of bullets purchased by avid players of an online game, before and after introducing a game mechanic that provided incentives for firing in bursts. Test the hypothesis that players started using more bullets after the new feature was introduced."
   ]
  },
  {
   "cell_type": "code",
   "execution_count": 7,
   "metadata": {},
   "outputs": [
    {
     "name": "stdout",
     "output_type": "stream",
     "text": [
      "mean before: 591.7333333333333\n",
      "mean after: 932.0666666666667\n",
      "p-value: 0.005394751910405561\n",
      "We reject the null hypothesis\n"
     ]
    }
   ],
   "source": [
    "from scipy import stats as st\n",
    "import numpy as np\n",
    "import pandas as pd\n",
    "\n",
    "bullets_before = [821, 1164, 598, 854, 455, 1220, 161, 1400, 479, 215, \n",
    "          564, 159, 920, 173, 276, 444, 273, 711, 291, 880, \n",
    "          892, 712, 16, 476, 498, 9, 1251, 938, 389, 513]\n",
    "\n",
    "bullets_after = [904, 220, 676, 459, 299, 659, 1698, 1120, 514, 1086, 1499, \n",
    "         1262, 829, 476, 1149, 996, 1247, 1117, 1324, 532, 1458, 898, \n",
    "         1837, 455, 1667, 898, 474, 558, 639, 1012]\n",
    "\n",
    "print('mean before:', pd.Series(bullets_before).mean())\n",
    "print('mean after:', pd.Series(bullets_after).mean())\n",
    "\n",
    "alpha = 0.05 # your code: set a critical statistical significance level\n",
    "\n",
    "results = st.ttest_rel(\n",
    "    bullets_before, \n",
    "    bullets_after)\n",
    "\n",
    "print('p-value:', results.pvalue /2) # your code: print the p-value you get)\n",
    "\n",
    "if (results.pvalue/2 < alpha) and (bullets_after > bullets_before): # your code: compare the p-value to the statistical significance):\n",
    "    print(\"We reject the null hypothesis\")\n",
    "else:\n",
    "    print(\"We can't reject the null hypothesis\")"
   ]
  },
  {
   "cell_type": "markdown",
   "metadata": {},
   "source": [
    "Players do in fact use more bullets"
   ]
  },
  {
   "cell_type": "code",
   "execution_count": 3,
   "metadata": {},
   "outputs": [],
   "source": [
    "import pandas as pd\n",
    "import scipy.stats"
   ]
  },
  {
   "cell_type": "code",
   "execution_count": null,
   "metadata": {},
   "outputs": [],
   "source": []
  }
 ],
 "metadata": {
  "interpreter": {
   "hash": "9b8ab61c9e77274f2d446992832627a1a97087245ff5de8b0d11c3c770be55a5"
  },
  "kernelspec": {
   "display_name": "Python 3.9.1 64-bit",
   "name": "python3"
  },
  "language_info": {
   "codemirror_mode": {
    "name": "ipython",
    "version": 3
   },
   "file_extension": ".py",
   "mimetype": "text/x-python",
   "name": "python",
   "nbconvert_exporter": "python",
   "pygments_lexer": "ipython3",
   "version": "3.9.1"
  },
  "orig_nbformat": 4
 },
 "nbformat": 4,
 "nbformat_minor": 2
}
