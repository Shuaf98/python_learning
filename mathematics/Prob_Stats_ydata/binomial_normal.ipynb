{
 "cells": [
  {
   "cell_type": "markdown",
   "source": [
    "## Binomial Distribiution\r\n",
    "The binomial distribution\r\n",
    "Let's list the conditions that need to hold for a random variable to have a binomial distribution:\r\n",
    "A finite, fixed number of trials (n) are conducted\r\n",
    "Every trial is a simple binomial experiment experiment with exactly two outcomes\r\n",
    "The trials are independent of each other\r\n",
    "The probability of success (p) is the same for all n trials\r\n",
    "Let’s look at a few examples for different values of n and p. We'll put the probability of a particular outcome on the vertical axis and possible numbers of successes on the horizontal axis. We've already seen that the latter can range from 0 to n (so there are n+1 total alternatives).\r\n",
    "When the probability of success is equal to that of failure (i.e., both are 50%), we'll get a symmetrical distribution.\r\n",
    "For n = 5 and p = 0.5:"
   ],
   "metadata": {}
  },
  {
   "cell_type": "code",
   "execution_count": null,
   "source": [
    "from matplotlib import pyplot as plt\r\n",
    "from math import factorial\r\n",
    "\r\n",
    "n = 25\r\n",
    "p = 0.5\r\n",
    "\r\n",
    "distr = []\r\n",
    "\r\n",
    "for k in range(0,n+1):\r\n",
    "    choose = factorial(n)/(factorial(k) * factorial(n-k))\r\n",
    "    prob = choose * p**k * (1-p)**(n-k) \r\n",
    "    distr.append(prob)\r\n",
    "    \r\n",
    "plt.bar(range(0,n+1), distr) "
   ],
   "outputs": [],
   "metadata": {}
  },
  {
   "cell_type": "markdown",
   "source": [
    "### Example: \r\n",
    "Your company is organizing an important event. The PR team is looking for at least six media partners to provide publicity for it. Going by experience, about one in five media outlets that they negotiate with will say yes. Create a probability distribution and histogram for the random variable “number of media representatives who say yes” if you begin negotiations with 30 outlets."
   ],
   "metadata": {}
  },
  {
   "cell_type": "code",
   "execution_count": 4,
   "source": [
    "from matplotlib import pyplot as plt\r\n",
    "from math import factorial\r\n",
    "\r\n",
    "p =   1/5# add your code here: what is the probability of drawing up a contract?\r\n",
    "n =   30 # add your code here: how many companies will we negotiate with?\r\n",
    "\r\n",
    "distr = [] # add your code here: create a variable for the distribution value\r\n",
    "\r\n",
    "for k in range(0 , n + 1):\r\n",
    "       # add your code here: generate the probability distribution\r\n",
    "    choose = factorial(n)/(factorial(k) * factorial(n-k))\r\n",
    "    prob = choose * p**k * (1-p)**(n-k) \r\n",
    "    distr.append(prob)\r\n",
    "# add your code here: create a histogram of the probability distribution\r\n",
    "plt.bar(range(0, n+1), distr)"
   ],
   "outputs": [
    {
     "output_type": "execute_result",
     "data": {
      "text/plain": [
       "<BarContainer object of 31 artists>"
      ]
     },
     "metadata": {},
     "execution_count": 4
    },
    {
     "output_type": "display_data",
     "data": {
      "image/png": "[encoded data removed]",
      "text/plain": [
       "<Figure size 432x288 with 1 Axes>"
      ]
     },
     "metadata": {
      "needs_background": "light"
     }
    }
   ],
   "metadata": {}
  },
  {
   "cell_type": "markdown",
   "source": [
    "Getting 6 is the most likely probability, however, getting less than 6 is still around a 50% chance. Lets try something with a better confidence level of success, like 60, next time."
   ],
   "metadata": {}
  },
  {
   "cell_type": "markdown",
   "source": [
    "## Normal Distribution\r\n",
    "The normal distribution differs from a binomial distribution in that it is continuous, and thus helps us describe the distribution of continuous random variables. (Discrete random variables can also be described with the normal distribution, but in such cases, it is an approximation.)\r\n",
    "A normal distribution has two key parameters: mean and variance (standard deviation squared).\r\n",
    "X ∼ (μ, σ^2)\r\n",
    "This notation can be read as: the variable X is normally distributed with a mean of mu (μ) and a variance of sigma squared (σ²), i.e. a standard deviation of sigma.\r\n",
    "Often, the distribution parameters are known, and you need to find the probability of a value occurring in a given interval.\r\n",
    "\r\n",
    "Python can make the calculations for us. For this we need methods from the scipy.stats package: norm.cdf() and norm.ppf().\r\n",
    "norm — normal continuous random variable\r\n",
    "cdf — cumulative distribution function\r\n",
    "ppf — percent-point function"
   ],
   "metadata": {}
  },
  {
   "cell_type": "markdown",
   "source": [
    "### Example\r\n",
    "The number of monthly visitors to an online store has a normal distribution with a mean of 100,500 and a standard deviation of 3,500.\r\n",
    "Find the probability that in the next week the outlet website will have:\r\n",
    "More than 111,000 visitors (in this case the marketing team will get a bonus)\r\n",
    "Fewer than 92,000 visitors (in this case the marketing team will be penalized)"
   ],
   "metadata": {}
  },
  {
   "cell_type": "code",
   "execution_count": 5,
   "source": [
    "from scipy import stats as st\r\n",
    "\r\n",
    "mu = 100500 # place your code here: what is the distribution's mean?\r\n",
    "sigma = 3500 # place your code here: what is the distribution's standard deviation?\r\n",
    "\r\n",
    "bonus_threshold = 111000 # place your code here: where does the threshold for the bonus lie?\r\n",
    "penalty_threshold = 92000 # place your code here: where does the threshold for the penalty lie?\r\n",
    "\r\n",
    "distr = st.norm(mu, sigma)\r\n",
    "\r\n",
    "p_bonus = 1- distr.cdf(bonus_threshold) # place your code here: calculate the probability of achieving the bonus\r\n",
    "p_penalty = distr.cdf(penalty_threshold) # place your code here: calculate the probability of achieving the penalty\r\n",
    "\r\n",
    "print('Bonus probability:', p_bonus)\r\n",
    "print('Penalty probability:', p_penalty)"
   ],
   "outputs": [
    {
     "output_type": "stream",
     "name": "stdout",
     "text": [
      "Bonus probability: 0.0013498980316301035\n",
      "Penalty probability: 0.0075792194387197245\n"
     ]
    }
   ],
   "metadata": {}
  },
  {
   "cell_type": "markdown",
   "source": [
    "### Example 2\r\n",
    "A different online store, Fancy Pants, sells gift products to a very narrow audience of corporate clients. The store's weekly sales of premium chess sets made from mammoth tusk have a normal distribution with a mean of 420 and a standard deviation of 65.\r\n",
    "The inventory team is deciding how many sets to order. They want the chance of selling all of them next week to be 90%. How many should they order?\r\n"
   ],
   "metadata": {}
  },
  {
   "cell_type": "code",
   "execution_count": 6,
   "source": [
    "from scipy import stats as st\r\n",
    "\r\n",
    "mu = 420# place your code here: what is the distribution's mean?\r\n",
    "sigma = 65# place your code here: what is the distribution's standard deviation?\r\n",
    "prob = .9 # place your code here: what is the required probability of selling all the products?\r\n",
    "\r\n",
    "n_shipment = st.norm(mu, sigma).ppf(1- prob) # place your code here: how many items should be ordered?\r\n",
    "\r\n",
    "print('Need to order items:', int(n_shipment))"
   ],
   "outputs": [
    {
     "output_type": "stream",
     "name": "stdout",
     "text": [
      "Need to order items: 336\n"
     ]
    }
   ],
   "metadata": {}
  },
  {
   "cell_type": "markdown",
   "source": [
    "## Normal Approximation to the Binomial Distribution\r\n",
    "If the number of trials is high enough, the binomial distribution can be modeled by the normal distribution. In this lesson, we'll show you how this works.\r\n",
    "First, some basics. For the binomial distribution, given n trials and a probability of success of p:\r\n",
    "The expected value (mean) is n ⋅ p\r\n",
    "The variance is n ⋅ p ⋅ (1 - p)\r\n",
    "Remember that the expected value is the value that the mean result will approach if the experiment is repeated many times. A binomial experiment consists of n trials of a simple (Bernoulli) experiment with two outcomes.\r\n",
    "Example of expected value\r\n",
    "A software engineers writes 50 chunks of code every day. Every fifth time, the chunk runs perfectly the first time (p = 0.2).\r\n",
    "This means that every day Archie is running a binomial experiment with an expected value of 50 ⋅ 0.2 = 10 and a variance of 50 ⋅ 0.2 ⋅ 0.8 = 8 (i.e., with a standard deviation of √8 = 2√2).\r\n",
    "This doesn't mean he writes 10 perfect chunks of code every day! One day, he might be tired and wrote only five; on another day, he might feel great and write 15.\r\n",
    "But over time, the average daily number will tend toward ten, and around 99% of values will fall within 10 ± 3 ⋅ 2√2. On any given day, you can expect between two and 18 chunks to work perfectly on the first try.\r\n",
    "The normal approximation of the binomial distribution\r\n",
    "Remember that with a high n (approximately 50 or more), the normal distribution can model the binomial. Then these binomial distribution parameters (expected value n ⋅ p and variance n ⋅ p ⋅ (1 - p)) can be taken as the mean and variance of a normal distribution, which will be fairly close to the binomial.\r\n",
    "(Why is this useful? Because of handy, predictable features of the normal distribution like the three-sigma rule.)\r\n",
    "Here, for example, is the binomial distribution for n = 50 and p = 0.8 "
   ],
   "metadata": {}
  },
  {
   "cell_type": "code",
   "execution_count": 1,
   "source": [
    "from matplotlib import pyplot as plt\r\n",
    "from math import factorial\r\n",
    "from scipy.stats import norm\r\n",
    "\r\n",
    "# binomial distribution with n **= 50 and p = 0.8\r\n",
    "p = 0.8\r\n",
    "n = 50\r\n",
    "\r\n",
    "binom = []\r\n",
    "for k in range(0, n + 1):\r\n",
    "    choose = float(factorial(n)) / (factorial(k) * factorial(n - k))\r\n",
    "    prob = choose * p ** k * (1 - p) ** (n - k)\r\n",
    "    binom.append(prob)\r\n",
    "\r\n",
    "# normal distribution with n **= 50 and p = 0.8\r\n",
    "mu = n * p\r\n",
    "var = n * p * (1 - p)\r\n",
    "sigma = var ** 0.5\r\n",
    "\r\n",
    "x = range(0, n + 1)\r\n",
    "norm = norm.pdf(x, mu, sigma)\r\n",
    "\r\n",
    "plt.bar(range(25, n + 1), binom[25:], alpha=0.3)\r\n",
    "plt.plot(range(25, n + 1), norm[25:], 'g-')\r\n",
    "plt.show() "
   ],
   "outputs": [
    {
     "output_type": "display_data",
     "data": {
      "image/png": "[encoded data removed]",
      "text/plain": [
       "<Figure size 432x288 with 1 Axes>"
      ]
     },
     "metadata": {
      "needs_background": "light"
     }
    }
   ],
   "metadata": {}
  },
  {
   "cell_type": "markdown",
   "source": [
    "While they don't coincide exactly, they're pretty close. As you increase 'n'\r\n",
    ", they become even closer."
   ],
   "metadata": {}
  },
  {
   "cell_type": "markdown",
   "source": [
    "### Example\r\n",
    "A company has decided to advertise online. The advertising service says that on average, 15% of users click on its ads. That's 750 visits per 5,000 views.\r\n",
    "The company places ads, purchases 5,000 impressions (views), and gets only 715 visits. The marketing team is upset! Weren't they promised 750 visits? We'll use statistical arguments to calm them down.\r\n",
    "To recap: when a user sees an ad, there's a 15% chance they'll click on it. This gives us a binomial distribution with n = 5000 and p = 0.15.\r\n",
    "We'll use a normal distribution to approximate the binomial and find the probability of getting 715 clicks or fewer.\r\n",
    "Think — we have our X axis value, and we want the probability of getting that number or less. What method do we need?\r\n",
    "Got it?\r\n",
    "We need norm.cdf():"
   ],
   "metadata": {}
  },
  {
   "cell_type": "code",
   "execution_count": 2,
   "source": [
    "from scipy import stats as st\r\n",
    "import math as mt\r\n",
    "\r\n",
    "binom_n = 5000\r\n",
    "binom_p = 0.15\r\n",
    "\r\n",
    "clicks = 715\r\n",
    "\r\n",
    "mu = binom_n * binom_p\r\n",
    "sigma = mt.sqrt(binom_n * binom_p * (1 - binom_p))\r\n",
    "\r\n",
    "p_clicks = st.norm(mu, sigma).cdf(clicks)\r\n",
    "print(p_clicks) "
   ],
   "outputs": [
    {
     "output_type": "stream",
     "name": "stdout",
     "text": [
      "0.08284191945650154\n"
     ]
    }
   ],
   "metadata": {}
  },
  {
   "cell_type": "markdown",
   "source": [
    "### Example 2:\r\n",
    "A company sends its clients a monthly newsletter with news and offers from partners. It knows that 40% of users open the newsletter.\r\n",
    "One partner is planning an advertising campaign and is hoping for a reach of about 9,000 users. Calculate the probability that the client’s expectations will be met if the newsletter is sent to 23,000 people.\r\n",
    "(In the last example, we created a variable called clicks; here, create one called threshold, and save the value 9,000 to it. Let the population size be binom_n and let the probability that the newsletter gets opened be binom_p.)\r\n",
    "Save the probability that the client's expectations will be met as p_threshold and print it."
   ],
   "metadata": {}
  },
  {
   "cell_type": "code",
   "execution_count": 3,
   "source": [
    "from scipy import stats as st\r\n",
    "import math as mt\r\n",
    "\r\n",
    "threshold = 9000\r\n",
    "\r\n",
    "binom_n = 23000\r\n",
    "binom_p = .4\r\n",
    "mu = binom_n * binom_p\r\n",
    "sigma = mt.sqrt(binom_n * binom_p * (1 - binom_p))\r\n",
    "\r\n",
    "p_threshold = 1- st.norm(mu, sigma).cdf(9000)\r\n",
    "print(p_threshold)"
   ],
   "outputs": [
    {
     "output_type": "stream",
     "name": "stdout",
     "text": [
      "0.9964477890716447\n"
     ]
    }
   ],
   "metadata": {}
  },
  {
   "cell_type": "code",
   "execution_count": null,
   "source": [],
   "outputs": [],
   "metadata": {}
  }
 ],
 "metadata": {
  "orig_nbformat": 4,
  "language_info": {
   "name": "python",
   "version": "3.9.1",
   "mimetype": "text/x-python",
   "codemirror_mode": {
    "name": "ipython",
    "version": 3
   },
   "pygments_lexer": "ipython3",
   "nbconvert_exporter": "python",
   "file_extension": ".py"
  },
  "kernelspec": {
   "name": "python3",
   "display_name": "Python 3.9.1 64-bit"
  },
  "interpreter": {
   "hash": "9b8ab61c9e77274f2d446992832627a1a97087245ff5de8b0d11c3c770be55a5"
  }
 },
 "nbformat": 4,
 "nbformat_minor": 2
}