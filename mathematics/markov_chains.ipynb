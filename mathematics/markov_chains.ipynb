{
 "cells": [
  {
   "cell_type": "code",
   "execution_count": 1,
   "metadata": {},
   "outputs": [],
   "source": [
    "import numpy as np\n",
    "import numpy.linalg as la"
   ]
  },
  {
   "cell_type": "code",
   "execution_count": 37,
   "metadata": {},
   "outputs": [],
   "source": [
    "L = np.array([[0.5, 0.5, 0,     0  ,  0],\n",
    "              [1/2, 0,   0.5,   0,    0],\n",
    "              [1/2, 0,   0,     0.5,  0],\n",
    "              [1/2, 0,   0,     0,    1/2],\n",
    "              [1/2, 0,   0,     0,    1/2]])"
   ]
  },
  {
   "cell_type": "code",
   "execution_count": 38,
   "metadata": {},
   "outputs": [],
   "source": [
    "r = np.array([1, 0, 0, 0, 0]) #intitial position"
   ]
  },
  {
   "cell_type": "code",
   "execution_count": 39,
   "metadata": {},
   "outputs": [],
   "source": [
    "# eVals, eVecs = la.eig(L) # Gets the eigenvalues and vectors\n",
    "# # print(eVecs)\n",
    "# order = np.absolute(eVals).argsort()[::-1] # Orders them by their eigenvalues, biggest to smallest\n",
    "# eVals = eVals[order]\n",
    "# eVecs = eVecs[:,order]\n",
    "\n",
    "# r = eVecs[:, 0] # Sets r to be the principal eigenvector\n",
    "# 100 * np.real(r / np.sum(r)) # Make this eigenvector sum to one, then multiply by 100 Procrastinating Pats"
   ]
  },
  {
   "cell_type": "code",
   "execution_count": 40,
   "metadata": {},
   "outputs": [
    {
     "name": "stdout",
     "output_type": "stream",
     "text": [
      "7 iterations to convergence.\n"
     ]
    },
    {
     "data": {
      "text/plain": [
       "array([[0.00390625, 0.        , 0.        , 0.        , 0.        ],\n",
       "       [0.00390625, 0.        , 0.        , 0.        , 0.        ],\n",
       "       [0.00390625, 0.        , 0.        , 0.        , 0.        ],\n",
       "       [0.00390625, 0.        , 0.        , 0.        , 0.        ],\n",
       "       [0.00390625, 0.        , 0.        , 0.        , 0.        ]])"
      ]
     },
     "execution_count": 40,
     "metadata": {},
     "output_type": "execute_result"
    }
   ],
   "source": [
    "lastR = r\n",
    "r = L*r\n",
    "i = 0\n",
    "while la.norm(lastR - r) > 0.01 :\n",
    "    lastR = r\n",
    "    r = L*r\n",
    "    i += 1\n",
    "print(str(i) + \" iterations to convergence.\")\n",
    "r"
   ]
  },
  {
   "cell_type": "code",
   "execution_count": null,
   "metadata": {},
   "outputs": [],
   "source": []
  }
 ],
 "metadata": {
  "interpreter": {
   "hash": "9b8ab61c9e77274f2d446992832627a1a97087245ff5de8b0d11c3c770be55a5"
  },
  "kernelspec": {
   "display_name": "Python 3.9.1 64-bit",
   "name": "python3"
  },
  "language_info": {
   "codemirror_mode": {
    "name": "ipython",
    "version": 3
   },
   "file_extension": ".py",
   "mimetype": "text/x-python",
   "name": "python",
   "nbconvert_exporter": "python",
   "pygments_lexer": "ipython3",
   "version": "3.9.1"
  },
  "orig_nbformat": 4
 },
 "nbformat": 4,
 "nbformat_minor": 2
}
