{
 "cells": [
  {
   "cell_type": "code",
   "execution_count": 1,
   "metadata": {},
   "outputs": [],
   "source": [
    "#Create data:\n",
    "import numpy as np\n",
    "from sklearn import datasets\n",
    "import matplotlib.pyplot as plt #for plotting\n",
    "\n",
    "x, y, coef = datasets.make_regression(n_samples=100,#number of samples\n",
    "                                      n_features=1,#number of features\n",
    "                                      n_informative=1,#number of useful features \n",
    "                                      noise=10,#bias and standard deviation of the guassian noise\n",
    "                                      coef=True,#true coefficient used to generated the data\n",
    "                                      random_state=0) #set for same data points for each run\n",
    "\n",
    "# Scale feature x (years of experience) to range 0..20\n",
    "X = np.interp(x, (x.min(), x.max()), (0, 20))\n",
    "\n",
    "# Scale target y (salary) to range 20000..150000 \n",
    "Y = np.interp(y, (y.min(), y.max()), (20000, 150000))\n",
    "\n"
   ]
  },
  {
   "cell_type": "code",
   "execution_count": 9,
   "metadata": {},
   "outputs": [],
   "source": [
    "xbar = np.sum(x)/len(x)\n",
    "ybar = np.sum(y)/len(y)"
   ]
  },
  {
   "cell_type": "code",
   "execution_count": null,
   "metadata": {},
   "outputs": [],
   "source": [
    "x = 0\n",
    "y = 0\n",
    "m = 0\n",
    "\n",
    "for i in range(len(x)):\n",
    "    x += (x[i] - xbar)*y[i] \n",
    "    y += (x[i] - xbar)**2\n",
    "    m = x/y\n",
    "    c = ybar- m*xbar"
   ]
  },
  {
   "cell_type": "code",
   "execution_count": 3,
   "metadata": {},
   "outputs": [],
   "source": [
    "#Find slope and intercept for the line\n",
    "def linfit(xdat,ydat):\n",
    "  # Here xbar and ybar are calculated\n",
    "  xbar = np.sum(xdat)/len(xdat)\n",
    "  ybar = np.sum(ydat)/len(ydat)\n",
    "  \n",
    "  x = 0\n",
    "  y = 0\n",
    "  m = 0\n",
    "  # Insert calculation of m and c here. If nothing is here the data will be plotted with no linear fit\n",
    "  for i in range(len(xdat)):\n",
    "    x += (xdat[i] - xbar)*ydat[i] \n",
    "    y += (xdat[i] - xbar)**2\n",
    "  m = x/y\n",
    "  c = ybar- m*xbar\n",
    "  # Return your values as [m, c]\n",
    "  return [m, c]\n",
    "\n",
    "def abline(slope, intercept):\n",
    "    \"\"\"Plot a line from slope and intercept\"\"\"\n",
    "    axes = plt.gca()\n",
    "    x_vals = np.array(axes.get_xlim())\n",
    "    y_vals = intercept + slope * x_vals\n",
    "    plt.plot(x_vals, y_vals, '--')"
   ]
  },
  {
   "cell_type": "code",
   "execution_count": 8,
   "metadata": {},
   "outputs": [
    {
     "data": {
      "image/png": "[encoded data removed]",
      "text/plain": [
       "<Figure size 432x288 with 1 Axes>"
      ]
     },
     "metadata": {
      "needs_background": "light"
     },
     "output_type": "display_data"
    }
   ],
   "source": [
    "\n",
    "plt.ion() #interactive plot on\n",
    "plt.plot(X,Y,'.',label='training data')\n",
    "plt.xlabel('Years of experience');plt.ylabel('Salary $')\n",
    "plt.title('Experience Vs. Salary')\n",
    "line = linfit(X,Y)\n",
    "abline(line[0], line[1])\n"
   ]
  }
 ],
 "metadata": {
  "interpreter": {
   "hash": "9b8ab61c9e77274f2d446992832627a1a97087245ff5de8b0d11c3c770be55a5"
  },
  "kernelspec": {
   "display_name": "Python 3.9.1 64-bit",
   "language": "python",
   "name": "python3"
  },
  "language_info": {
   "codemirror_mode": {
    "name": "ipython",
    "version": 3
   },
   "file_extension": ".py",
   "mimetype": "text/x-python",
   "name": "python",
   "nbconvert_exporter": "python",
   "pygments_lexer": "ipython3",
   "version": "3.9.1"
  },
  "orig_nbformat": 4
 },
 "nbformat": 4,
 "nbformat_minor": 2
}
