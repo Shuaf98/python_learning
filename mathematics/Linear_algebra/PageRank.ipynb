{
 "cells": [
  {
   "cell_type": "markdown",
   "metadata": {
    "collapsed": true
   },
   "source": [
    "# PageRank\n",
    "In this notebook, you'll build on your knowledge of eigenvectors and eigenvalues by exploring the PageRank algorithm.\n",
    "The notebook is in two parts, the first is a worksheet to get you up to speed with how the algorithm works - here we will look at a micro-internet with fewer than 10 websites and see what it does and what can go wrong.\n",
    "The second is an assessment which will test your application of eigentheory to this problem by writing code and calculating the page rank of a large network representing a sub-section of the internet."
   ]
  },
  {
   "cell_type": "markdown",
   "metadata": {},
   "source": [
    "## Part 1 - Worksheet\n",
    "### Introduction\n",
    "\n",
    "PageRank (developed by Larry Page and Sergey Brin) revolutionized web search by generating a\n",
    "ranked list of web pages based on the underlying connectivity of the web. The PageRank algorithm is\n",
    "based on an ideal random web surfer who, when reaching a page, goes to the next page by clicking on a\n",
    "link. The surfer has equal probability of clicking any link on the page and, when reaching a page with no\n",
    "links, has equal probability of moving to any other page by typing in its URL. In addition, the surfer may\n",
    "occasionally choose to type in a random URL instead of following the links on a page. The PageRank is\n",
    "the ranked order of the pages from the most to the least probable page the surfer will be viewing.\n"
   ]
  },
  {
   "cell_type": "code",
   "execution_count": 69,
   "metadata": {},
   "outputs": [
    {
     "name": "stdout",
     "output_type": "stream",
     "text": [
      "Populating the interactive namespace from numpy and matplotlib\n"
     ]
    }
   ],
   "source": [
    "# Before we begin, let's load the libraries.\n",
    "%pylab notebook\n",
    "import numpy as np\n",
    "import numpy.linalg as la\n",
    "# from readonly.PageRankFunctions import *\n",
    "# np.set_printoptions(suppress=True)"
   ]
  },
  {
   "cell_type": "code",
   "execution_count": null,
   "metadata": {
    "collapsed": true
   },
   "outputs": [],
   "source": []
  },
  {
   "cell_type": "markdown",
   "metadata": {},
   "source": [
    "### PageRank as a linear algebra problem\n",
    "Let's imagine a micro-internet, with just 6 websites (**A**vocado, **B**ullseye, **C**atBabel, **D**romeda, **e**Tings, and **F**aceSpace).\n",
    "Each website links to some of the others, and this forms a network as shown,\n",
    "\n",
    "![A Micro-Internet](readonly/internet.png \"A Micro-Internet\")\n",
    "\n",
    "The design principle of PageRank is that important websites will be linked to by important websites.\n",
    "This somewhat recursive principle will form the basis of our thinking.\n",
    "\n",
    "Imagine we have 100 *Procrastinating Pat*s on our micro-internet, each viewing a single website at a time.\n",
    "Each minute the Pats follow a link on their website to another site on the micro-internet.\n",
    "After a while, the websites that are most linked to will have more Pats visiting them, and in the long run, each minute for every Pat that leaves a website, another will enter keeping the total numbers of Pats on each website constant.\n",
    "The PageRank is simply the ranking of websites by how many Pats they have on them at the end of this process.\n",
    "\n",
    "We represent the number of Pats on each website with the vector,\n",
    "$$\\mathbf{r} = \\begin{bmatrix} r_A \\\\ r_B \\\\ r_C \\\\ r_D \\\\ r_E \\\\ r_F \\end{bmatrix}$$\n",
    "And say that the number of Pats on each website in minute $i+1$ is related to those at minute $i$ by the matrix transformation\n",
    "\n",
    "$$ \\mathbf{r}^{(i+1)} = L \\,\\mathbf{r}^{(i)}$$\n",
    "with the matrix $L$ taking the form,\n",
    "$$ L = \\begin{bmatrix}\n",
    "L_{A→A} & L_{B→A} & L_{C→A} & L_{D→A} & L_{E→A} & L_{F→A} \\\\\n",
    "L_{A→B} & L_{B→B} & L_{C→B} & L_{D→B} & L_{E→B} & L_{F→B} \\\\\n",
    "L_{A→C} & L_{B→C} & L_{C→C} & L_{D→C} & L_{E→C} & L_{F→C} \\\\\n",
    "L_{A→D} & L_{B→D} & L_{C→D} & L_{D→D} & L_{E→D} & L_{F→D} \\\\\n",
    "L_{A→E} & L_{B→E} & L_{C→E} & L_{D→E} & L_{E→E} & L_{F→E} \\\\\n",
    "L_{A→F} & L_{B→F} & L_{C→F} & L_{D→F} & L_{E→F} & L_{F→F} \\\\\n",
    "\\end{bmatrix}\n",
    "$$\n",
    "where the columns represent the probability of leaving a website for any other website, and sum to one.\n",
    "The rows determine how likely you are to enter a website from any other, though these need not add to one.\n",
    "The long time behaviour of this system is when $ \\mathbf{r}^{(i+1)} = \\mathbf{r}^{(i)}$, so we'll drop the superscripts here, and that allows us to write,\n",
    "$$ L \\,\\mathbf{r} = \\mathbf{r}$$\n",
    "\n",
    "which is an eigenvalue equation for the matrix $L$, with eigenvalue 1 (this is guaranteed by the probabalistic structure of the matrix $L$).\n",
    "\n",
    "Complete the matrix $L$ below, we've left out the column for which websites the *FaceSpace* website (F) links to.\n",
    "Remember, this is the probability to click on another website from this one, so each column should add to one (by scaling by the number of links)."
   ]
  },
  {
   "cell_type": "code",
   "execution_count": 70,
   "metadata": {
    "collapsed": true
   },
   "outputs": [],
   "source": [
    "# Replace the ??? here with the probability of clicking a link to each website when leaving Website F (FaceSpace).\n",
    "L = np.array([[0,   1/2, 1/3, 0, 0,   0 ],\n",
    "              [1/3, 0,   0,   0, 1/2, 0 ],\n",
    "              [1/3, 1/2, 0,   1, 0,   1/2 ],\n",
    "              [1/3, 0,   1/3, 0, 1/2, 1/2 ],\n",
    "              [0,   0,   0,   0, 0,   0 ],\n",
    "              [0,   0,   1/3, 0, 0,   0 ]])"
   ]
  },
  {
   "cell_type": "code",
   "execution_count": 71,
   "metadata": {},
   "outputs": [],
   "source": [
    "L = np.array([[0.5, 0.5, 0,     0  ,  0],\n",
    "              [1/2, 0,   0.5,   0,    0],\n",
    "              [1/2, 0,   0,     0.5,  0],\n",
    "              [1/2, 0,   0,     0,    1/2],\n",
    "              [1/2, 0,   0,     0,    1/2]])"
   ]
  },
  {
   "cell_type": "code",
   "execution_count": 72,
   "metadata": {},
   "outputs": [
    {
     "data": {
      "text/plain": [
       "array([0.5, 0.5, 0. , 0. , 0. ])"
      ]
     },
     "execution_count": 72,
     "metadata": {},
     "output_type": "execute_result"
    }
   ],
   "source": [
    "r = np.array([1, 0, 0, 0, 0])\n",
    "r@L"
   ]
  },
  {
   "cell_type": "markdown",
   "metadata": {},
   "source": [
    "In principle, we could use a linear algebra library, as below, to calculate the eigenvalues and vectors.\n",
    "And this would work for a small system. But this gets unmanagable for large systems.\n",
    "And since we only care about the principal eigenvector (the one with the largest eigenvalue, which will be 1 in this case), we can use the *power iteration method* which will scale better, and is faster for large systems.\n",
    "\n",
    "Use the code below to peek at the PageRank for this micro-internet."
   ]
  },
  {
   "cell_type": "code",
   "execution_count": 73,
   "metadata": {},
   "outputs": [
    {
     "data": {
      "text/plain": [
       "array([20., 20., 20., 20., 20.])"
      ]
     },
     "execution_count": 73,
     "metadata": {},
     "output_type": "execute_result"
    }
   ],
   "source": [
    "eVals, eVecs = la.eig(L) # Gets the eigenvalues and vectors\n",
    "# print(eVecs)\n",
    "order = np.absolute(eVals).argsort()[::-1] # Orders them by their eigenvalues, biggest to smallest\n",
    "eVals = eVals[order]\n",
    "eVecs = eVecs[:,order]\n",
    "\n",
    "r = eVecs[:, 0] # Sets r to be the principal eigenvector\n",
    "100 * np.real(r / np.sum(r)) # Make this eigenvector sum to one, then multiply by 100 Procrastinating Pats"
   ]
  },
  {
   "cell_type": "markdown",
   "metadata": {},
   "source": [
    "We can see from this list, the number of Procrastinating Pats that we expect to find on each website after long times.\n",
    "Putting them in order of *popularity* (based on this metric), the PageRank of this micro-internet is:\n",
    "\n",
    "**C**atBabel, **D**romeda, **A**vocado, **F**aceSpace, **B**ullseye, **e**Tings\n",
    "\n",
    "Referring back to the micro-internet diagram, is this what you would have expected?\n",
    "Convince yourself that based on which pages seem important given which others link to them, that this is a sensible ranking.\n",
    "\n",
    "Let's now try to get the same result using the Power-Iteration method that was covered in the video.\n",
    "This method will be much better at dealing with large systems.\n",
    "\n",
    "First let's set up our initial vector, $\\mathbf{r}^{(0)}$, so that we have our 100 Procrastinating Pats equally distributed on each of our 6 websites."
   ]
  },
  {
   "cell_type": "code",
   "execution_count": 74,
   "metadata": {},
   "outputs": [
    {
     "data": {
      "text/plain": [
       "array([1, 0, 0, 0, 0])"
      ]
     },
     "execution_count": 74,
     "metadata": {},
     "output_type": "execute_result"
    }
   ],
   "source": [
    "r = np.array([1, 0, 0, 0, 0])\n",
    "r # Shows it's value"
   ]
  },
  {
   "cell_type": "code",
   "execution_count": 75,
   "metadata": {},
   "outputs": [
    {
     "data": {
      "text/plain": [
       "array([0.2, 0.2, 0.2, 0.2, 0.2])"
      ]
     },
     "execution_count": 75,
     "metadata": {},
     "output_type": "execute_result"
    }
   ],
   "source": [
    "r = np.ones(5)/ 1/5\n",
    "r"
   ]
  },
  {
   "cell_type": "markdown",
   "metadata": {},
   "source": [
    "Next, let's update the vector to the next minute, with the matrix $L$.\n",
    "Run the following cell multiple times, until the answer stabilises."
   ]
  },
  {
   "cell_type": "code",
   "execution_count": 76,
   "metadata": {},
   "outputs": [
    {
     "name": "stdout",
     "output_type": "stream",
     "text": [
      "[[0.5 0.5 0.  0.  0. ]\n",
      " [0.5 0.  0.5 0.  0. ]\n",
      " [0.5 0.  0.  0.5 0. ]\n",
      " [0.5 0.  0.  0.  0.5]\n",
      " [0.5 0.  0.  0.  0.5]]\n"
     ]
    },
    {
     "data": {
      "text/plain": [
       "array([0.2, 0.2, 0.2, 0.2, 0.2])"
      ]
     },
     "execution_count": 76,
     "metadata": {},
     "output_type": "execute_result"
    }
   ],
   "source": [
    "r = L @ r # Apply matrix L to r\n",
    "print(L)\n",
    "r # Show it's value\n",
    "# Re-run this cell multiple times to converge to the correct answer."
   ]
  },
  {
   "cell_type": "markdown",
   "metadata": {},
   "source": [
    "We can automate applying this matrix multiple times as follows,"
   ]
  },
  {
   "cell_type": "code",
   "execution_count": 77,
   "metadata": {},
   "outputs": [
    {
     "ename": "ValueError",
     "evalue": "matmul: Input operand 1 has a mismatch in its core dimension 0, with gufunc signature (n?,k),(k,m?)->(n?,m?) (size 6 is different from 5)",
     "output_type": "error",
     "traceback": [
      "\u001b[1;31m---------------------------------------------------------------------------\u001b[0m",
      "\u001b[1;31mValueError\u001b[0m                                Traceback (most recent call last)",
      "\u001b[1;32m<ipython-input-77-b5b2ea868edf>\u001b[0m in \u001b[0;36m<module>\u001b[1;34m\u001b[0m\n\u001b[0;32m      1\u001b[0m \u001b[0mr\u001b[0m \u001b[1;33m=\u001b[0m \u001b[0mnp\u001b[0m\u001b[1;33m.\u001b[0m\u001b[0mones\u001b[0m\u001b[1;33m(\u001b[0m\u001b[1;36m6\u001b[0m\u001b[1;33m)\u001b[0m \u001b[1;33m/\u001b[0m \u001b[1;36m1\u001b[0m\u001b[1;33m/\u001b[0m\u001b[1;36m6\u001b[0m \u001b[1;31m# Sets up this vector (6 entries of 1/6 × 100 each)\u001b[0m\u001b[1;33m\u001b[0m\u001b[1;33m\u001b[0m\u001b[0m\n\u001b[0;32m      2\u001b[0m \u001b[1;32mfor\u001b[0m \u001b[0mi\u001b[0m \u001b[1;32min\u001b[0m \u001b[0mnp\u001b[0m\u001b[1;33m.\u001b[0m\u001b[0marange\u001b[0m\u001b[1;33m(\u001b[0m\u001b[1;36m100\u001b[0m\u001b[1;33m)\u001b[0m \u001b[1;33m:\u001b[0m \u001b[1;31m# Repeat 100 times\u001b[0m\u001b[1;33m\u001b[0m\u001b[1;33m\u001b[0m\u001b[0m\n\u001b[1;32m----> 3\u001b[1;33m     \u001b[0mr\u001b[0m \u001b[1;33m=\u001b[0m \u001b[0mL\u001b[0m \u001b[1;33m@\u001b[0m \u001b[0mr\u001b[0m\u001b[1;33m\u001b[0m\u001b[1;33m\u001b[0m\u001b[0m\n\u001b[0m\u001b[0;32m      4\u001b[0m \u001b[0mr\u001b[0m\u001b[1;33m\u001b[0m\u001b[1;33m\u001b[0m\u001b[0m\n",
      "\u001b[1;31mValueError\u001b[0m: matmul: Input operand 1 has a mismatch in its core dimension 0, with gufunc signature (n?,k),(k,m?)->(n?,m?) (size 6 is different from 5)"
     ]
    }
   ],
   "source": [
    "r = np.ones(6) / 1/6 # Sets up this vector (6 entries of 1/6 × 100 each)\n",
    "for i in np.arange(100) : # Repeat 100 times\n",
    "    r = L @ r\n",
    "r"
   ]
  },
  {
   "cell_type": "markdown",
   "metadata": {},
   "source": [
    "Or even better, we can keep running until we get to the required tolerance."
   ]
  },
  {
   "cell_type": "code",
   "execution_count": null,
   "metadata": {},
   "outputs": [
    {
     "name": "stdout",
     "output_type": "stream",
     "text": [
      "[0.5  0.   0.25 0.25 0.  ]\n",
      "[0.5   0.25  0.    0.125 0.125]\n",
      "[0.5   0.25  0.125 0.    0.125]\n",
      "[0.5    0.25   0.125  0.0625 0.0625]\n",
      "[0.5    0.25   0.125  0.0625 0.0625]\n"
     ]
    }
   ],
   "source": [
    "r = np.array([0, 0.5, 0.5, 0, 0]) # Sets up this vector (6 entries of 1/6 × 100 each)\n",
    "for i in np.arange(5) : # Repeat 100 times\n",
    "    r = r@L\n",
    "    print(r)\n"
   ]
  },
  {
   "cell_type": "code",
   "execution_count": null,
   "metadata": {},
   "outputs": [
    {
     "name": "stdout",
     "output_type": "stream",
     "text": [
      "0 iterations to convergence.\n"
     ]
    },
    {
     "data": {
      "text/plain": [
       "array([0.2, 0.2, 0.2, 0.2, 0.2])"
      ]
     },
     "execution_count": 42,
     "metadata": {},
     "output_type": "execute_result"
    }
   ],
   "source": [
    "r = np.ones(6) / 1/6 # Sets up this vector (6 entries of 1/6 × 100 each)\n",
    "lastR = r\n",
    "r = L @ r\n",
    "i = 0\n",
    "while la.norm(lastR - r) > 0.01 :\n",
    "    lastR = r\n",
    "    r = L @ r\n",
    "    i += 1\n",
    "print(str(i) + \" iterations to convergence.\")\n",
    "r"
   ]
  },
  {
   "cell_type": "code",
   "execution_count": null,
   "metadata": {},
   "outputs": [
    {
     "name": "stdout",
     "output_type": "stream",
     "text": [
      "4 iterations to convergence.\n"
     ]
    },
    {
     "data": {
      "text/plain": [
       "array([0.5   , 0.25  , 0.125 , 0.0625, 0.0625])"
      ]
     },
     "execution_count": 68,
     "metadata": {},
     "output_type": "execute_result"
    }
   ],
   "source": [
    "r = np.ones(5) / 1/5 # Sets up this vector (6 entries of 1/6 × 100 each)\n",
    "lastR = r\n",
    "r = r@L\n",
    "i = 0\n",
    "while la.norm(lastR - r) > 0.01 :\n",
    "    lastR = r\n",
    "    r = r@L\n",
    "    i += 1\n",
    "print(str(i) + \" iterations to convergence.\")\n",
    "r"
   ]
  },
  {
   "cell_type": "markdown",
   "metadata": {},
   "source": [
    "See how the PageRank order is established fairly quickly, and the vector converges on the value we calculated earlier after a few tens of repeats.\n",
    "\n",
    "Congratulations! You've just calculated your first PageRank!"
   ]
  },
  {
   "cell_type": "markdown",
   "metadata": {},
   "source": [
    "### Damping Parameter\n",
    "The system we just studied converged fairly quickly to the correct answer.\n",
    "Let's consider an extension to our micro-internet where things start to go wrong.\n",
    "\n",
    "Say a new website is added to the micro-internet: *Geoff's* Website.\n",
    "This website is linked to by *FaceSpace* and only links to itself.\n",
    "![An Expanded Micro-Internet](readonly/internet2.png \"An Expanded Micro-Internet\")\n",
    "\n",
    "Intuitively, only *FaceSpace*, which is in the bottom half of the page rank, links to this website amongst the two others it links to,\n",
    "so we might expect *Geoff's* site to have a correspondingly low PageRank score.\n",
    "\n",
    "Build the new $L$ matrix for the expanded micro-internet, and use Power-Iteration on the Procrastinating Pat vector.\n",
    "See what happens…"
   ]
  },
  {
   "cell_type": "code",
   "execution_count": null,
   "metadata": {
    "collapsed": true
   },
   "outputs": [],
   "source": [
    " # We'll call this one L2, to distinguish it from the previous L.\n",
    "L2 = np.array([[0,   1/2, 1/3, 0, 0,   0, 0 ],\n",
    "               [1/3, 0,   0,   0, 1/2, 0, 0 ],\n",
    "               [1/3, 1/2, 0,   1, 0,   1/3, 0 ],\n",
    "               [1/3, 0,   1/3, 0, 1/2, 1/3, 0 ],\n",
    "               [0,   0,   0,   0, 0,   0, 0 ],\n",
    "               [0,   0,   1/3, 0, 0,   0, 0 ],\n",
    "               [0,   0,   0,   0, 0,   0, 1 ]])"
   ]
  },
  {
   "cell_type": "code",
   "execution_count": null,
   "metadata": {},
   "outputs": [
    {
     "name": "stdout",
     "output_type": "stream",
     "text": [
      "114 iterations to convergence.\n"
     ]
    },
    {
     "data": {
      "text/plain": [
       "array([ 0.06750843,  0.02358085,  0.15789522,  0.09799914,  0.        ,\n",
       "        0.05515316, 14.28571429])"
      ]
     },
     "execution_count": 23,
     "metadata": {},
     "output_type": "execute_result"
    }
   ],
   "source": [
    "r = 100 * np.ones(7) / 7 # Sets up this vector (6 entries of 1/6 × 100 each)\n",
    "lastR = r\n",
    "r = L2 @ r\n",
    "i = 0\n",
    "while la.norm(lastR - r) > 0.01 :\n",
    "    lastR = r\n",
    "    r = L2 @ r\n",
    "    i += 1\n",
    "print(str(i) + \" iterations to convergence.\")\n",
    "r"
   ]
  },
  {
   "cell_type": "markdown",
   "metadata": {},
   "source": [
    "That's no good! *Geoff* seems to be taking all the traffic on the micro-internet, and somehow coming at the top of the PageRank.\n",
    "This behaviour can be understood, because once a Pat get's to *Geoff's* Website, they can't leave, as all links head back to Geoff.\n",
    "\n",
    "To combat this, we can add a small probability that the Procrastinating Pats don't follow any link on a webpage, but instead visit a website on the micro-internet at random.\n",
    "We'll say the probability of them following a link is $d$ and the probability of choosing a random website is therefore $1-d$.\n",
    "We can use a new matrix to work out where the Pat's visit each minute.\n",
    "$$ M = d \\, L + \\frac{1-d}{n} \\, J $$\n",
    "where $J$ is an $n\\times n$ matrix where every element is one.\n",
    "\n",
    "If $d$ is one, we have the case we had previously, whereas if $d$ is zero, we will always visit a random webpage and therefore all webpages will be equally likely and equally ranked.\n",
    "For this extension to work best, $1-d$ should be somewhat small - though we won't go into a discussion about exactly how small.\n",
    "\n",
    "Let's retry this PageRank with this extension."
   ]
  },
  {
   "cell_type": "code",
   "execution_count": null,
   "metadata": {
    "collapsed": true
   },
   "outputs": [],
   "source": [
    "d = 0.8 # Feel free to play with this parameter after running the code once.\n",
    "M = d * L2 + (1-d)/7 * np.ones([7, 7]) # np.ones() is the J matrix, with ones for each entry."
   ]
  },
  {
   "cell_type": "code",
   "execution_count": null,
   "metadata": {},
   "outputs": [
    {
     "name": "stdout",
     "output_type": "stream",
     "text": [
      "165 iterations to convergence.\n"
     ]
    },
    {
     "data": {
      "text/plain": [
       "array([ 0.11028221,  0.06276373,  0.22371223,  0.14737144,  0.02300758,\n",
       "        0.08443253,  0.13051268])"
      ]
     },
     "execution_count": 47,
     "metadata": {},
     "output_type": "execute_result"
    }
   ],
   "source": [
    "r = 100 * np.ones(7) / 7 # Sets up this vector (6 entries of 1/6 × 100 each)\n",
    "lastR = r\n",
    "r = M @ r\n",
    "i = 0\n",
    "while la.norm(lastR - r) > 0.01 :\n",
    "    lastR = r\n",
    "    r = M @ r\n",
    "    i += 1\n",
    "print(str(i) + \" iterations to convergence.\")\n",
    "r"
   ]
  },
  {
   "cell_type": "markdown",
   "metadata": {},
   "source": [
    "This is certainly better, the PageRank gives sensible numbers for the Procrastinating Pats that end up on each webpage.\n",
    "This method still predicts Geoff has a high ranking webpage however.\n",
    "This could be seen as a consequence of using a small network. We could also get around the problem by not counting self-links when producing the L matrix (an if a website has no outgoing links, make it link to all websites equally).\n",
    "We won't look further down this route, as this is in the realm of improvements to PageRank, rather than eigenproblems.\n",
    "\n",
    "You are now in a good position, having gained an understanding of PageRank, to produce your own code to calculate the PageRank of a website with thousands of entries.\n",
    "\n",
    "Good Luck!"
   ]
  },
  {
   "cell_type": "markdown",
   "metadata": {},
   "source": [
    "## Part 2 - Assessment\n",
    "In this assessment, you will be asked to produce a function that can calculate the PageRank for an arbitrarily large probability matrix.\n",
    "This, the final assignment of the course, will give less guidance than previous assessments.\n",
    "You will be expected to utilise code from earlier in the worksheet and re-purpose it to your needs.\n",
    "\n",
    "### How to submit\n",
    "Edit the code in the cell below to complete the assignment.\n",
    "Once you are finished and happy with it, press the *Submit Assignment* button at the top of this notebook.\n",
    "\n",
    "Please don't change any of the function names, as these will be checked by the grading script.\n",
    "\n",
    "If you have further questions about submissions or programming assignments, here is a [list](https://www.coursera.org/learn/linear-algebra-machine-learning/discussions/weeks/1/threads/jB4klkn5EeibtBIQyzFmQg) of Q&A. You can also raise an issue on the discussion forum. Good luck!"
   ]
  },
  {
   "cell_type": "code",
   "execution_count": null,
   "metadata": {
    "collapsed": true
   },
   "outputs": [],
   "source": [
    "# PACKAGE\n",
    "# Here are the imports again, just in case you need them.\n",
    "# There is no need to edit or submit this cell.\n",
    "import numpy as np\n",
    "import numpy.linalg as la\n",
    "from readonly.PageRankFunctions import *\n",
    "np.set_printoptions(suppress=True)"
   ]
  },
  {
   "cell_type": "code",
   "execution_count": null,
   "metadata": {
    "collapsed": true
   },
   "outputs": [],
   "source": [
    "# GRADED FUNCTION\n",
    "# Complete this function to provide the PageRank for an arbitrarily sized internet.\n",
    "# I.e. the principal eigenvector of the damped system, using the power iteration method.\n",
    "# (Normalisation doesn't matter here)\n",
    "# The functions inputs are the linkMatrix, and d the damping parameter - as defined in this worksheet.\n",
    "def pageRank(linkMatrix, d) :\n",
    "    n = linkMatrix.shape[0]\n",
    "    \n",
    "    M = d * linkMatrix + (1-d)/n * np.ones([n, n]) # np.ones() is the J matrix, with ones for each entry.\n",
    "    r = 100 * np.ones(n) / n # Sets up this vector (n entries of 1/n × 100 each)\n",
    "    lastR = r\n",
    "    r = M @ r\n",
    "    i = 0\n",
    "    while la.norm(lastR - r) > 0.01 :\n",
    "        lastR = r\n",
    "        r = M @ r\n",
    "        i += 1\n",
    "    \n",
    "    return r"
   ]
  },
  {
   "cell_type": "markdown",
   "metadata": {},
   "source": [
    "## Test your code before submission\n",
    "To test the code you've written above, run the cell (select the cell above, then press the play button [ ▶| ] or press shift-enter).\n",
    "You can then use the code below to test out your function.\n",
    "You don't need to submit this cell; you can edit and run it as much as you like."
   ]
  },
  {
   "cell_type": "code",
   "execution_count": null,
   "metadata": {},
   "outputs": [
    {
     "data": {
      "text/plain": [
       "array([[ 0. ,  0.2,  0.2,  0. ,  0. ],\n",
       "       [ 0. ,  0.2,  0.2,  0.5,  0. ],\n",
       "       [ 0.5,  0.2,  0.2,  0. ,  0. ],\n",
       "       [ 0. ,  0.2,  0.2,  0. ,  0. ],\n",
       "       [ 0.5,  0.2,  0.2,  0.5,  1. ]])"
      ]
     },
     "execution_count": 50,
     "metadata": {},
     "output_type": "execute_result"
    }
   ],
   "source": [
    "# Use the following function to generate internets of different sizes.\n",
    "generate_internet(5)"
   ]
  },
  {
   "cell_type": "code",
   "execution_count": null,
   "metadata": {
    "collapsed": true
   },
   "outputs": [],
   "source": [
    "# Test your PageRank method against the built in \"eig\" method.\n",
    "# You should see yours is a lot faster for large internets\n",
    "L = generate_internet(10)"
   ]
  },
  {
   "cell_type": "code",
   "execution_count": null,
   "metadata": {},
   "outputs": [
    {
     "data": {
      "text/plain": [
       "array([  5.55593271,   5.55593271,   7.40622672,   1.85167182,\n",
       "         1.85167182,  11.10918035,  16.66974726,  18.52014669,\n",
       "        16.66373525,  14.81575468])"
      ]
     },
     "execution_count": 52,
     "metadata": {},
     "output_type": "execute_result"
    }
   ],
   "source": [
    "pageRank(L, 1)"
   ]
  },
  {
   "cell_type": "code",
   "execution_count": null,
   "metadata": {},
   "outputs": [
    {
     "data": {
      "text/plain": [
       "array([  5.55555556,   5.55555556,   7.40740741,   1.85185186,\n",
       "         1.85185186,  11.11111111,  16.66666666,  18.51851851,\n",
       "        16.66666666,  14.81481482])"
      ]
     },
     "execution_count": 53,
     "metadata": {},
     "output_type": "execute_result"
    }
   ],
   "source": [
    "# Do note, this is calculating the eigenvalues of the link matrix, L,\n",
    "# without any damping. It may give different results that your pageRank function.\n",
    "# If you wish, you could modify this cell to include damping.\n",
    "# (There is no credit for this though)\n",
    "eVals, eVecs = la.eig(L) # Gets the eigenvalues and vectors\n",
    "order = np.absolute(eVals).argsort()[::-1] # Orders them by their eigenvalues\n",
    "eVals = eVals[order]\n",
    "eVecs = eVecs[:,order]\n",
    "\n",
    "r = eVecs[:, 0]\n",
    "100 * np.real(r / np.sum(r))"
   ]
  },
  {
   "cell_type": "code",
   "execution_count": null,
   "metadata": {},
   "outputs": [
    {
     "name": "stdout",
     "output_type": "stream",
     "text": [
      "Populating the interactive namespace from numpy and matplotlib\n"
     ]
    },
    {
     "data": {
      "application/javascript": "/* Put everything inside the global mpl namespace */\nwindow.mpl = {};\n\n\nmpl.get_websocket_type = function() {\n    if (typeof(WebSocket) !== 'undefined') {\n        return WebSocket;\n    } else if (typeof(MozWebSocket) !== 'undefined') {\n        return MozWebSocket;\n    } else {\n        alert('Your browser does not have WebSocket support.' +\n              'Please try Chrome, Safari or Firefox ≥ 6. ' +\n              'Firefox 4 and 5 are also supported but you ' +\n              'have to enable WebSockets in about:config.');\n    };\n}\n\nmpl.figure = function(figure_id, websocket, ondownload, parent_element) {\n    this.id = figure_id;\n\n    this.ws = websocket;\n\n    this.supports_binary = (this.ws.binaryType != undefined);\n\n    if (!this.supports_binary) {\n        var warnings = document.getElementById(\"mpl-warnings\");\n        if (warnings) {\n            warnings.style.display = 'block';\n            warnings.textContent = (\n                \"This browser does not support binary websocket messages. \" +\n                    \"Performance may be slow.\");\n        }\n    }\n\n    this.imageObj = new Image();\n\n    this.context = undefined;\n    this.message = undefined;\n    this.canvas = undefined;\n    this.rubberband_canvas = undefined;\n    this.rubberband_context = undefined;\n    this.format_dropdown = undefined;\n\n    this.image_mode = 'full';\n\n    this.root = $('<div/>');\n    this._root_extra_style(this.root)\n    this.root.attr('style', 'display: inline-block');\n\n    $(parent_element).append(this.root);\n\n    this._init_header(this);\n    this._init_canvas(this);\n    this._init_toolbar(this);\n\n    var fig = this;\n\n    this.waiting = false;\n\n    this.ws.onopen =  function () {\n            fig.send_message(\"supports_binary\", {value: fig.supports_binary});\n            fig.send_message(\"send_image_mode\", {});\n            if (mpl.ratio != 1) {\n                fig.send_message(\"set_dpi_ratio\", {'dpi_ratio': mpl.ratio});\n            }\n            fig.send_message(\"refresh\", {});\n        }\n\n    this.imageObj.onload = function() {\n            if (fig.image_mode == 'full') {\n                // Full images could contain transparency (where diff images\n                // almost always do), so we need to clear the canvas so that\n                // there is no ghosting.\n                fig.context.clearRect(0, 0, fig.canvas.width, fig.canvas.height);\n            }\n            fig.context.drawImage(fig.imageObj, 0, 0);\n        };\n\n    this.imageObj.onunload = function() {\n        this.ws.close();\n    }\n\n    this.ws.onmessage = this._make_on_message_function(this);\n\n    this.ondownload = ondownload;\n}\n\nmpl.figure.prototype._init_header = function() {\n    var titlebar = $(\n        '<div class=\"ui-dialog-titlebar ui-widget-header ui-corner-all ' +\n        'ui-helper-clearfix\"/>');\n    var titletext = $(\n        '<div class=\"ui-dialog-title\" style=\"width: 100%; ' +\n        'text-align: center; padding: 3px;\"/>');\n    titlebar.append(titletext)\n    this.root.append(titlebar);\n    this.header = titletext[0];\n}\n\n\n\nmpl.figure.prototype._canvas_extra_style = function(canvas_div) {\n\n}\n\n\nmpl.figure.prototype._root_extra_style = function(canvas_div) {\n\n}\n\nmpl.figure.prototype._init_canvas = function() {\n    var fig = this;\n\n    var canvas_div = $('<div/>');\n\n    canvas_div.attr('style', 'position: relative; clear: both; outline: 0');\n\n    function canvas_keyboard_event(event) {\n        return fig.key_event(event, event['data']);\n    }\n\n    canvas_div.keydown('key_press', canvas_keyboard_event);\n    canvas_div.keyup('key_release', canvas_keyboard_event);\n    this.canvas_div = canvas_div\n    this._canvas_extra_style(canvas_div)\n    this.root.append(canvas_div);\n\n    var canvas = $('<canvas/>');\n    canvas.addClass('mpl-canvas');\n    canvas.attr('style', \"left: 0; top: 0; z-index: 0; outline: 0\")\n\n    this.canvas = canvas[0];\n    this.context = canvas[0].getContext(\"2d\");\n\n    var backingStore = this.context.backingStorePixelRatio ||\n\tthis.context.webkitBackingStorePixelRatio ||\n\tthis.context.mozBackingStorePixelRatio ||\n\tthis.context.msBackingStorePixelRatio ||\n\tthis.context.oBackingStorePixelRatio ||\n\tthis.context.backingStorePixelRatio || 1;\n\n    mpl.ratio = (window.devicePixelRatio || 1) / backingStore;\n\n    var rubberband = $('<canvas/>');\n    rubberband.attr('style', \"position: absolute; left: 0; top: 0; z-index: 1;\")\n\n    var pass_mouse_events = true;\n\n    canvas_div.resizable({\n        start: function(event, ui) {\n            pass_mouse_events = false;\n        },\n        resize: function(event, ui) {\n            fig.request_resize(ui.size.width, ui.size.height);\n        },\n        stop: function(event, ui) {\n            pass_mouse_events = true;\n            fig.request_resize(ui.size.width, ui.size.height);\n        },\n    });\n\n    function mouse_event_fn(event) {\n        if (pass_mouse_events)\n            return fig.mouse_event(event, event['data']);\n    }\n\n    rubberband.mousedown('button_press', mouse_event_fn);\n    rubberband.mouseup('button_release', mouse_event_fn);\n    // Throttle sequential mouse events to 1 every 20ms.\n    rubberband.mousemove('motion_notify', mouse_event_fn);\n\n    rubberband.mouseenter('figure_enter', mouse_event_fn);\n    rubberband.mouseleave('figure_leave', mouse_event_fn);\n\n    canvas_div.on(\"wheel\", function (event) {\n        event = event.originalEvent;\n        event['data'] = 'scroll'\n        if (event.deltaY < 0) {\n            event.step = 1;\n        } else {\n            event.step = -1;\n        }\n        mouse_event_fn(event);\n    });\n\n    canvas_div.append(canvas);\n    canvas_div.append(rubberband);\n\n    this.rubberband = rubberband;\n    this.rubberband_canvas = rubberband[0];\n    this.rubberband_context = rubberband[0].getContext(\"2d\");\n    this.rubberband_context.strokeStyle = \"#000000\";\n\n    this._resize_canvas = function(width, height) {\n        // Keep the size of the canvas, canvas container, and rubber band\n        // canvas in synch.\n        canvas_div.css('width', width)\n        canvas_div.css('height', height)\n\n        canvas.attr('width', width * mpl.ratio);\n        canvas.attr('height', height * mpl.ratio);\n        canvas.attr('style', 'width: ' + width + 'px; height: ' + height + 'px;');\n\n        rubberband.attr('width', width);\n        rubberband.attr('height', height);\n    }\n\n    // Set the figure to an initial 600x600px, this will subsequently be updated\n    // upon first draw.\n    this._resize_canvas(600, 600);\n\n    // Disable right mouse context menu.\n    $(this.rubberband_canvas).bind(\"contextmenu\",function(e){\n        return false;\n    });\n\n    function set_focus () {\n        canvas.focus();\n        canvas_div.focus();\n    }\n\n    window.setTimeout(set_focus, 100);\n}\n\nmpl.figure.prototype._init_toolbar = function() {\n    var fig = this;\n\n    var nav_element = $('<div/>')\n    nav_element.attr('style', 'width: 100%');\n    this.root.append(nav_element);\n\n    // Define a callback function for later on.\n    function toolbar_event(event) {\n        return fig.toolbar_button_onclick(event['data']);\n    }\n    function toolbar_mouse_event(event) {\n        return fig.toolbar_button_onmouseover(event['data']);\n    }\n\n    for(var toolbar_ind in mpl.toolbar_items) {\n        var name = mpl.toolbar_items[toolbar_ind][0];\n        var tooltip = mpl.toolbar_items[toolbar_ind][1];\n        var image = mpl.toolbar_items[toolbar_ind][2];\n        var method_name = mpl.toolbar_items[toolbar_ind][3];\n\n        if (!name) {\n            // put a spacer in here.\n            continue;\n        }\n        var button = $('<button/>');\n        button.addClass('ui-button ui-widget ui-state-default ui-corner-all ' +\n                        'ui-button-icon-only');\n        button.attr('role', 'button');\n        button.attr('aria-disabled', 'false');\n        button.click(method_name, toolbar_event);\n        button.mouseover(tooltip, toolbar_mouse_event);\n\n        var icon_img = $('<span/>');\n        icon_img.addClass('ui-button-icon-primary ui-icon');\n        icon_img.addClass(image);\n        icon_img.addClass('ui-corner-all');\n\n        var tooltip_span = $('<span/>');\n        tooltip_span.addClass('ui-button-text');\n        tooltip_span.html(tooltip);\n\n        button.append(icon_img);\n        button.append(tooltip_span);\n\n        nav_element.append(button);\n    }\n\n    var fmt_picker_span = $('<span/>');\n\n    var fmt_picker = $('<select/>');\n    fmt_picker.addClass('mpl-toolbar-option ui-widget ui-widget-content');\n    fmt_picker_span.append(fmt_picker);\n    nav_element.append(fmt_picker_span);\n    this.format_dropdown = fmt_picker[0];\n\n    for (var ind in mpl.extensions) {\n        var fmt = mpl.extensions[ind];\n        var option = $(\n            '<option/>', {selected: fmt === mpl.default_extension}).html(fmt);\n        fmt_picker.append(option)\n    }\n\n    // Add hover states to the ui-buttons\n    $( \".ui-button\" ).hover(\n        function() { $(this).addClass(\"ui-state-hover\");},\n        function() { $(this).removeClass(\"ui-state-hover\");}\n    );\n\n    var status_bar = $('<span class=\"mpl-message\"/>');\n    nav_element.append(status_bar);\n    this.message = status_bar[0];\n}\n\nmpl.figure.prototype.request_resize = function(x_pixels, y_pixels) {\n    // Request matplotlib to resize the figure. Matplotlib will then trigger a resize in the client,\n    // which will in turn request a refresh of the image.\n    this.send_message('resize', {'width': x_pixels, 'height': y_pixels});\n}\n\nmpl.figure.prototype.send_message = function(type, properties) {\n    properties['type'] = type;\n    properties['figure_id'] = this.id;\n    this.ws.send(JSON.stringify(properties));\n}\n\nmpl.figure.prototype.send_draw_message = function() {\n    if (!this.waiting) {\n        this.waiting = true;\n        this.ws.send(JSON.stringify({type: \"draw\", figure_id: this.id}));\n    }\n}\n\n\nmpl.figure.prototype.handle_save = function(fig, msg) {\n    var format_dropdown = fig.format_dropdown;\n    var format = format_dropdown.options[format_dropdown.selectedIndex].value;\n    fig.ondownload(fig, format);\n}\n\n\nmpl.figure.prototype.handle_resize = function(fig, msg) {\n    var size = msg['size'];\n    if (size[0] != fig.canvas.width || size[1] != fig.canvas.height) {\n        fig._resize_canvas(size[0], size[1]);\n        fig.send_message(\"refresh\", {});\n    };\n}\n\nmpl.figure.prototype.handle_rubberband = function(fig, msg) {\n    var x0 = msg['x0'] / mpl.ratio;\n    var y0 = (fig.canvas.height - msg['y0']) / mpl.ratio;\n    var x1 = msg['x1'] / mpl.ratio;\n    var y1 = (fig.canvas.height - msg['y1']) / mpl.ratio;\n    x0 = Math.floor(x0) + 0.5;\n    y0 = Math.floor(y0) + 0.5;\n    x1 = Math.floor(x1) + 0.5;\n    y1 = Math.floor(y1) + 0.5;\n    var min_x = Math.min(x0, x1);\n    var min_y = Math.min(y0, y1);\n    var width = Math.abs(x1 - x0);\n    var height = Math.abs(y1 - y0);\n\n    fig.rubberband_context.clearRect(\n        0, 0, fig.canvas.width, fig.canvas.height);\n\n    fig.rubberband_context.strokeRect(min_x, min_y, width, height);\n}\n\nmpl.figure.prototype.handle_figure_label = function(fig, msg) {\n    // Updates the figure title.\n    fig.header.textContent = msg['label'];\n}\n\nmpl.figure.prototype.handle_cursor = function(fig, msg) {\n    var cursor = msg['cursor'];\n    switch(cursor)\n    {\n    case 0:\n        cursor = 'pointer';\n        break;\n    case 1:\n        cursor = 'default';\n        break;\n    case 2:\n        cursor = 'crosshair';\n        break;\n    case 3:\n        cursor = 'move';\n        break;\n    }\n    fig.rubberband_canvas.style.cursor = cursor;\n}\n\nmpl.figure.prototype.handle_message = function(fig, msg) {\n    fig.message.textContent = msg['message'];\n}\n\nmpl.figure.prototype.handle_draw = function(fig, msg) {\n    // Request the server to send over a new figure.\n    fig.send_draw_message();\n}\n\nmpl.figure.prototype.handle_image_mode = function(fig, msg) {\n    fig.image_mode = msg['mode'];\n}\n\nmpl.figure.prototype.updated_canvas_event = function() {\n    // Called whenever the canvas gets updated.\n    this.send_message(\"ack\", {});\n}\n\n// A function to construct a web socket function for onmessage handling.\n// Called in the figure constructor.\nmpl.figure.prototype._make_on_message_function = function(fig) {\n    return function socket_on_message(evt) {\n        if (evt.data instanceof Blob) {\n            /* FIXME: We get \"Resource interpreted as Image but\n             * transferred with MIME type text/plain:\" errors on\n             * Chrome.  But how to set the MIME type?  It doesn't seem\n             * to be part of the websocket stream */\n            evt.data.type = \"image/png\";\n\n            /* Free the memory for the previous frames */\n            if (fig.imageObj.src) {\n                (window.URL || window.webkitURL).revokeObjectURL(\n                    fig.imageObj.src);\n            }\n\n            fig.imageObj.src = (window.URL || window.webkitURL).createObjectURL(\n                evt.data);\n            fig.updated_canvas_event();\n            fig.waiting = false;\n            return;\n        }\n        else if (typeof evt.data === 'string' && evt.data.slice(0, 21) == \"data:image/png;base64\") {\n            fig.imageObj.src = evt.data;\n            fig.updated_canvas_event();\n            fig.waiting = false;\n            return;\n        }\n\n        var msg = JSON.parse(evt.data);\n        var msg_type = msg['type'];\n\n        // Call the  \"handle_{type}\" callback, which takes\n        // the figure and JSON message as its only arguments.\n        try {\n            var callback = fig[\"handle_\" + msg_type];\n        } catch (e) {\n            console.log(\"No handler for the '\" + msg_type + \"' message type: \", msg);\n            return;\n        }\n\n        if (callback) {\n            try {\n                // console.log(\"Handling '\" + msg_type + \"' message: \", msg);\n                callback(fig, msg);\n            } catch (e) {\n                console.log(\"Exception inside the 'handler_\" + msg_type + \"' callback:\", e, e.stack, msg);\n            }\n        }\n    };\n}\n\n// from http://stackoverflow.com/questions/1114465/getting-mouse-location-in-canvas\nmpl.findpos = function(e) {\n    //this section is from http://www.quirksmode.org/js/events_properties.html\n    var targ;\n    if (!e)\n        e = window.event;\n    if (e.target)\n        targ = e.target;\n    else if (e.srcElement)\n        targ = e.srcElement;\n    if (targ.nodeType == 3) // defeat Safari bug\n        targ = targ.parentNode;\n\n    // jQuery normalizes the pageX and pageY\n    // pageX,Y are the mouse positions relative to the document\n    // offset() returns the position of the element relative to the document\n    var x = e.pageX - $(targ).offset().left;\n    var y = e.pageY - $(targ).offset().top;\n\n    return {\"x\": x, \"y\": y};\n};\n\n/*\n * return a copy of an object with only non-object keys\n * we need this to avoid circular references\n * http://stackoverflow.com/a/24161582/3208463\n */\nfunction simpleKeys (original) {\n  return Object.keys(original).reduce(function (obj, key) {\n    if (typeof original[key] !== 'object')\n        obj[key] = original[key]\n    return obj;\n  }, {});\n}\n\nmpl.figure.prototype.mouse_event = function(event, name) {\n    var canvas_pos = mpl.findpos(event)\n\n    if (name === 'button_press')\n    {\n        this.canvas.focus();\n        this.canvas_div.focus();\n    }\n\n    var x = canvas_pos.x * mpl.ratio;\n    var y = canvas_pos.y * mpl.ratio;\n\n    this.send_message(name, {x: x, y: y, button: event.button,\n                             step: event.step,\n                             guiEvent: simpleKeys(event)});\n\n    /* This prevents the web browser from automatically changing to\n     * the text insertion cursor when the button is pressed.  We want\n     * to control all of the cursor setting manually through the\n     * 'cursor' event from matplotlib */\n    event.preventDefault();\n    return false;\n}\n\nmpl.figure.prototype._key_event_extra = function(event, name) {\n    // Handle any extra behaviour associated with a key event\n}\n\nmpl.figure.prototype.key_event = function(event, name) {\n\n    // Prevent repeat events\n    if (name == 'key_press')\n    {\n        if (event.which === this._key)\n            return;\n        else\n            this._key = event.which;\n    }\n    if (name == 'key_release')\n        this._key = null;\n\n    var value = '';\n    if (event.ctrlKey && event.which != 17)\n        value += \"ctrl+\";\n    if (event.altKey && event.which != 18)\n        value += \"alt+\";\n    if (event.shiftKey && event.which != 16)\n        value += \"shift+\";\n\n    value += 'k';\n    value += event.which.toString();\n\n    this._key_event_extra(event, name);\n\n    this.send_message(name, {key: value,\n                             guiEvent: simpleKeys(event)});\n    return false;\n}\n\nmpl.figure.prototype.toolbar_button_onclick = function(name) {\n    if (name == 'download') {\n        this.handle_save(this, null);\n    } else {\n        this.send_message(\"toolbar_button\", {name: name});\n    }\n};\n\nmpl.figure.prototype.toolbar_button_onmouseover = function(tooltip) {\n    this.message.textContent = tooltip;\n};\nmpl.toolbar_items = [[\"Home\", \"Reset original view\", \"fa fa-home icon-home\", \"home\"], [\"Back\", \"Back to  previous view\", \"fa fa-arrow-left icon-arrow-left\", \"back\"], [\"Forward\", \"Forward to next view\", \"fa fa-arrow-right icon-arrow-right\", \"forward\"], [\"\", \"\", \"\", \"\"], [\"Pan\", \"Pan axes with left mouse, zoom with right\", \"fa fa-arrows icon-move\", \"pan\"], [\"Zoom\", \"Zoom to rectangle\", \"fa fa-square-o icon-check-empty\", \"zoom\"], [\"\", \"\", \"\", \"\"], [\"Download\", \"Download plot\", \"fa fa-floppy-o icon-save\", \"download\"]];\n\nmpl.extensions = [\"eps\", \"jpeg\", \"pdf\", \"png\", \"ps\", \"raw\", \"svg\", \"tif\"];\n\nmpl.default_extension = \"png\";var comm_websocket_adapter = function(comm) {\n    // Create a \"websocket\"-like object which calls the given IPython comm\n    // object with the appropriate methods. Currently this is a non binary\n    // socket, so there is still some room for performance tuning.\n    var ws = {};\n\n    ws.close = function() {\n        comm.close()\n    };\n    ws.send = function(m) {\n        //console.log('sending', m);\n        comm.send(m);\n    };\n    // Register the callback with on_msg.\n    comm.on_msg(function(msg) {\n        //console.log('receiving', msg['content']['data'], msg);\n        // Pass the mpl event to the overriden (by mpl) onmessage function.\n        ws.onmessage(msg['content']['data'])\n    });\n    return ws;\n}\n\nmpl.mpl_figure_comm = function(comm, msg) {\n    // This is the function which gets called when the mpl process\n    // starts-up an IPython Comm through the \"matplotlib\" channel.\n\n    var id = msg.content.data.id;\n    // Get hold of the div created by the display call when the Comm\n    // socket was opened in Python.\n    var element = $(\"#\" + id);\n    var ws_proxy = comm_websocket_adapter(comm)\n\n    function ondownload(figure, format) {\n        window.open(figure.imageObj.src);\n    }\n\n    var fig = new mpl.figure(id, ws_proxy,\n                           ondownload,\n                           element.get(0));\n\n    // Call onopen now - mpl needs it, as it is assuming we've passed it a real\n    // web socket which is closed, not our websocket->open comm proxy.\n    ws_proxy.onopen();\n\n    fig.parent_element = element.get(0);\n    fig.cell_info = mpl.find_output_cell(\"<div id='\" + id + \"'></div>\");\n    if (!fig.cell_info) {\n        console.error(\"Failed to find cell for figure\", id, fig);\n        return;\n    }\n\n    var output_index = fig.cell_info[2]\n    var cell = fig.cell_info[0];\n\n};\n\nmpl.figure.prototype.handle_close = function(fig, msg) {\n    var width = fig.canvas.width/mpl.ratio\n    fig.root.unbind('remove')\n\n    // Update the output cell to use the data from the current canvas.\n    fig.push_to_output();\n    var dataURL = fig.canvas.toDataURL();\n    // Re-enable the keyboard manager in IPython - without this line, in FF,\n    // the notebook keyboard shortcuts fail.\n    IPython.keyboard_manager.enable()\n    $(fig.parent_element).html('<img src=\"' + dataURL + '\" width=\"' + width + '\">');\n    fig.close_ws(fig, msg);\n}\n\nmpl.figure.prototype.close_ws = function(fig, msg){\n    fig.send_message('closing', msg);\n    // fig.ws.close()\n}\n\nmpl.figure.prototype.push_to_output = function(remove_interactive) {\n    // Turn the data on the canvas into data in the output cell.\n    var width = this.canvas.width/mpl.ratio\n    var dataURL = this.canvas.toDataURL();\n    this.cell_info[1]['text/html'] = '<img src=\"' + dataURL + '\" width=\"' + width + '\">';\n}\n\nmpl.figure.prototype.updated_canvas_event = function() {\n    // Tell IPython that the notebook contents must change.\n    IPython.notebook.set_dirty(true);\n    this.send_message(\"ack\", {});\n    var fig = this;\n    // Wait a second, then push the new image to the DOM so\n    // that it is saved nicely (might be nice to debounce this).\n    setTimeout(function () { fig.push_to_output() }, 1000);\n}\n\nmpl.figure.prototype._init_toolbar = function() {\n    var fig = this;\n\n    var nav_element = $('<div/>')\n    nav_element.attr('style', 'width: 100%');\n    this.root.append(nav_element);\n\n    // Define a callback function for later on.\n    function toolbar_event(event) {\n        return fig.toolbar_button_onclick(event['data']);\n    }\n    function toolbar_mouse_event(event) {\n        return fig.toolbar_button_onmouseover(event['data']);\n    }\n\n    for(var toolbar_ind in mpl.toolbar_items){\n        var name = mpl.toolbar_items[toolbar_ind][0];\n        var tooltip = mpl.toolbar_items[toolbar_ind][1];\n        var image = mpl.toolbar_items[toolbar_ind][2];\n        var method_name = mpl.toolbar_items[toolbar_ind][3];\n\n        if (!name) { continue; };\n\n        var button = $('<button class=\"btn btn-default\" href=\"#\" title=\"' + name + '\"><i class=\"fa ' + image + ' fa-lg\"></i></button>');\n        button.click(method_name, toolbar_event);\n        button.mouseover(tooltip, toolbar_mouse_event);\n        nav_element.append(button);\n    }\n\n    // Add the status bar.\n    var status_bar = $('<span class=\"mpl-message\" style=\"text-align:right; float: right;\"/>');\n    nav_element.append(status_bar);\n    this.message = status_bar[0];\n\n    // Add the close button to the window.\n    var buttongrp = $('<div class=\"btn-group inline pull-right\"></div>');\n    var button = $('<button class=\"btn btn-mini btn-primary\" href=\"#\" title=\"Stop Interaction\"><i class=\"fa fa-power-off icon-remove icon-large\"></i></button>');\n    button.click(function (evt) { fig.handle_close(fig, {}); } );\n    button.mouseover('Stop Interaction', toolbar_mouse_event);\n    buttongrp.append(button);\n    var titlebar = this.root.find($('.ui-dialog-titlebar'));\n    titlebar.prepend(buttongrp);\n}\n\nmpl.figure.prototype._root_extra_style = function(el){\n    var fig = this\n    el.on(\"remove\", function(){\n\tfig.close_ws(fig, {});\n    });\n}\n\nmpl.figure.prototype._canvas_extra_style = function(el){\n    // this is important to make the div 'focusable\n    el.attr('tabindex', 0)\n    // reach out to IPython and tell the keyboard manager to turn it's self\n    // off when our div gets focus\n\n    // location in version 3\n    if (IPython.notebook.keyboard_manager) {\n        IPython.notebook.keyboard_manager.register_events(el);\n    }\n    else {\n        // location in version 2\n        IPython.keyboard_manager.register_events(el);\n    }\n\n}\n\nmpl.figure.prototype._key_event_extra = function(event, name) {\n    var manager = IPython.notebook.keyboard_manager;\n    if (!manager)\n        manager = IPython.keyboard_manager;\n\n    // Check for shift+enter\n    if (event.shiftKey && event.which == 13) {\n        this.canvas_div.blur();\n        // select the cell after this one\n        var index = IPython.notebook.find_cell_index(this.cell_info[0]);\n        IPython.notebook.select(index + 1);\n    }\n}\n\nmpl.figure.prototype.handle_save = function(fig, msg) {\n    fig.ondownload(fig, null);\n}\n\n\nmpl.find_output_cell = function(html_output) {\n    // Return the cell and output element which can be found *uniquely* in the notebook.\n    // Note - this is a bit hacky, but it is done because the \"notebook_saving.Notebook\"\n    // IPython event is triggered only after the cells have been serialised, which for\n    // our purposes (turning an active figure into a static one), is too late.\n    var cells = IPython.notebook.get_cells();\n    var ncells = cells.length;\n    for (var i=0; i<ncells; i++) {\n        var cell = cells[i];\n        if (cell.cell_type === 'code'){\n            for (var j=0; j<cell.output_area.outputs.length; j++) {\n                var data = cell.output_area.outputs[j];\n                if (data.data) {\n                    // IPython >= 3 moved mimebundle to data attribute of output\n                    data = data.data;\n                }\n                if (data['text/html'] == html_output) {\n                    return [cell, data, j];\n                }\n            }\n        }\n    }\n}\n\n// Register the function which deals with the matplotlib target/channel.\n// The kernel may be null if the page has been refreshed.\nif (IPython.notebook.kernel != null) {\n    IPython.notebook.kernel.comm_manager.register_target('matplotlib', mpl.mpl_figure_comm);\n}\n",
      "text/plain": [
       "<IPython.core.display.Javascript object>"
      ]
     },
     "metadata": {},
     "output_type": "display_data"
    },
    {
     "data": {
      "text/html": [
       "<img src=\"data:image/png;base64,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\" width=\"638.888905813665\">"
      ],
      "text/plain": [
       "<IPython.core.display.HTML object>"
      ]
     },
     "metadata": {},
     "output_type": "display_data"
    }
   ],
   "source": [
    "# You may wish to view the PageRank graphically.\n",
    "# This code will draw a bar chart, for each (numbered) website on the generated internet,\n",
    "# The height of each bar will be the score in the PageRank.\n",
    "# Run this code to see the PageRank for each internet you generate.\n",
    "# Hopefully you should see what you might expect\n",
    "# - there are a few clusters of important websites, but most on the internet are rubbish!\n",
    "%pylab notebook\n",
    "r = pageRank(generate_internet(100), 0.9)\n",
    "plt.bar(arange(r.shape[0]), r);"
   ]
  },
  {
   "cell_type": "code",
   "execution_count": null,
   "metadata": {
    "collapsed": true
   },
   "outputs": [],
   "source": []
  }
 ],
 "metadata": {
  "coursera": {
   "course_slug": "linear-algebra-machine-learning",
   "graded_item_id": "Sfbnp",
   "launcher_item_id": "aPxf3"
  },
  "interpreter": {
   "hash": "9b8ab61c9e77274f2d446992832627a1a97087245ff5de8b0d11c3c770be55a5"
  },
  "kernelspec": {
   "display_name": "Python 3.9.1 64-bit",
   "name": "python3"
  },
  "language_info": {
   "codemirror_mode": {
    "name": "ipython",
    "version": 3
   },
   "file_extension": ".py",
   "mimetype": "text/x-python",
   "name": "python",
   "nbconvert_exporter": "python",
   "pygments_lexer": "ipython3",
   "version": "3.9.1"
  }
 },
 "nbformat": 4,
 "nbformat_minor": 1
}
