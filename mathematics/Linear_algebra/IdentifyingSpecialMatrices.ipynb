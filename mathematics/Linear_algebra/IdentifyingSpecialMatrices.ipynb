{
 "cells": [
  {
   "cell_type": "markdown",
   "source": [
    "# Identifying special matrices\n",
    "## Instructions\n",
    "In this assignment, you shall write a function that will test if a 4×4 matrix is singular, i.e. to determine if an inverse exists, before calculating it.\n",
    "\n",
    "You shall use the method of converting a matrix to echelon form, and testing if this fails by leaving zeros that can’t be removed on the leading diagonal.\n",
    "\n",
    "Don't worry if you've not coded before, a framework for the function has already been written.\n",
    "Look through the code, and you'll be instructed where to make changes.\n",
    "We'll do the first two rows, and you can use this as a guide to do the last two.\n",
    "\n",
    "### Matrices in Python\n",
    "In the *numpy* package in Python, matrices are indexed using zero for the top-most column and left-most row.\n",
    "I.e., the matrix structure looks like this:\n",
    "```python\n",
    "A[0, 0]  A[0, 1]  A[0, 2]  A[0, 3]\n",
    "A[1, 0]  A[1, 1]  A[1, 2]  A[1, 3]\n",
    "A[2, 0]  A[2, 1]  A[2, 2]  A[2, 3]\n",
    "A[3, 0]  A[3, 1]  A[3, 2]  A[3, 3]\n",
    "```\n",
    "You can access the value of each element individually using,\n",
    "```python\n",
    "A[n, m]\n",
    "```\n",
    "which will give the n'th row and m'th column (starting with zero).\n",
    "You can also access a whole row at a time using,\n",
    "```python\n",
    "A[n]\n",
    "```\n",
    "Which you will see will be useful when calculating linear combinations of rows.\n",
    "\n",
    "A final note - Python is sensitive to indentation.\n",
    "All the code you should complete will be at the same level of indentation as the instruction comment.\n",
    "\n",
    "### How to submit\n",
    "Edit the code in the cell below to complete the assignment.\n",
    "Once you are finished and happy with it, press the *Submit Assignment* button at the top of this notebook.\n",
    "\n",
    "Please don't change any of the function names, as these will be checked by the grading script.\n",
    "\n",
    "If you have further questions about submissions or programming assignments, here is a [list](https://www.coursera.org/learn/linear-algebra-machine-learning/discussions/weeks/1/threads/jB4klkn5EeibtBIQyzFmQg) of Q&A. You can also raise an issue on the discussion forum. Good luck!"
   ],
   "metadata": {}
  },
  {
   "cell_type": "code",
   "execution_count": 5,
   "source": [
    "# GRADED FUNCTION\r\n",
    "import numpy as np\r\n",
    "\r\n",
    "# Our function will go through the matrix replacing each row in order turning it into echelon form.\r\n",
    "# If at any point it fails because it can't put a 1 in the leading diagonal,\r\n",
    "# we will return the value True, otherwise, we will return False.\r\n",
    "# There is no need to edit this function.\r\n",
    "def isSingular(A) :\r\n",
    "    B = np.array(A, dtype=np.float_) # Make B as a copy of A, since we're going to alter it's values.\r\n",
    "    try:\r\n",
    "        fixRowZero(B)\r\n",
    "        fixRowOne(B)\r\n",
    "        fixRowTwo(B)\r\n",
    "        fixRowThree(B)\r\n",
    "    except MatrixIsSingular:\r\n",
    "        return True\r\n",
    "    return False\r\n",
    "\r\n",
    "# This next line defines our error flag. For when things go wrong if the matrix is singular.\r\n",
    "# There is no need to edit this line.\r\n",
    "class MatrixIsSingular(Exception): pass\r\n",
    "\r\n",
    "# For Row Zero, all we require is the first element is equal to 1.\r\n",
    "# We'll divide the row by the value of A[0, 0].\r\n",
    "# This will get us in trouble though if A[0, 0] equals 0, so first we'll test for that,\r\n",
    "# and if this is true, we'll add one of the lower rows to the first one before the division.\r\n",
    "# We'll repeat the test going down each lower row until we can do the division.\r\n",
    "# There is no need to edit this function.\r\n",
    "def fixRowZero(A) :\r\n",
    "    if A[0,0] == 0 :\r\n",
    "        A[0] = A[0] + A[1]\r\n",
    "    if A[0,0] == 0 :\r\n",
    "        A[0] = A[0] + A[2]\r\n",
    "    if A[0,0] == 0 :\r\n",
    "        A[0] = A[0] + A[3]\r\n",
    "    if A[0,0] == 0 :\r\n",
    "        raise MatrixIsSingular()\r\n",
    "    A[0] = A[0] / A[0,0]\r\n",
    "    return A\r\n",
    "\r\n",
    "# First we'll set the sub-diagonal elements to zero, i.e. A[1,0].\r\n",
    "# Next we want the diagonal element to be equal to one.\r\n",
    "# We'll divide the row by the value of A[1, 1].\r\n",
    "# Again, we need to test if this is zero.\r\n",
    "# If so, we'll add a lower row and repeat setting the sub-diagonal elements to zero.\r\n",
    "# There is no need to edit this function.\r\n",
    "def fixRowOne(A) :\r\n",
    "    A[1] = A[1] - A[1,0] * A[0]\r\n",
    "    if A[1,1] == 0 :\r\n",
    "        A[1] = A[1] + A[2]\r\n",
    "        A[1] = A[1] - A[1,0] * A[0]\r\n",
    "    if A[1,1] == 0 :\r\n",
    "        A[1] = A[1] + A[3]\r\n",
    "        A[1] = A[1] - A[1,0] * A[0]\r\n",
    "    if A[1,1] == 0 :\r\n",
    "        raise MatrixIsSingular()\r\n",
    "    A[1] = A[1] / A[1,1]\r\n",
    "    return A\r\n",
    "\r\n",
    "# This is the first function that you should complete.\r\n",
    "# Follow the instructions inside the function at each comment.\r\n",
    "def fixRowTwo(A) :\r\n",
    "    # Insert code below to set the sub-diagonal elements of row two to zero (there are two of them).\r\n",
    "    A[2] = A[2] - A[2,0] * A[0]\r\n",
    "    A[2] = A[2] - A[2,1] * A[1]\r\n",
    "    \r\n",
    "#     # Next we'll test that the diagonal element is not zero.\r\n",
    "    if A[2,2] == 0 :\r\n",
    "        A[2] = A[2] + A[3]\r\n",
    "        A[2] = A[2] - A[2,0] * A[0]\r\n",
    "        A[2] = A[2] - A[2,1] * A[1]\r\n",
    "    if A[2,2] == 0 :\r\n",
    "        raise MatrixIsSingular()\r\n",
    "    \r\n",
    "        # Insert code below that adds a lower row to row 2.\r\n",
    "        \r\n",
    "        # Now repeat your code which sets the sub-diagonal elements to zero.\r\n",
    "        \r\n",
    "        \r\n",
    "    if A[2,2] == 0 :\r\n",
    "        raise MatrixIsSingular()\r\n",
    "    # Finally set the diagonal element to one by dividing the whole row by that element.\r\n",
    "    A[2] = A[2] / A[2,2]\r\n",
    "\r\n",
    "    return A\r\n",
    "\r\n",
    "# You should also complete this function\r\n",
    "# Follow the instructions inside the function at each comment.\r\n",
    "def fixRowThree(A) :\r\n",
    "    # Insert code below to set the sub-diagonal elements of row three to zero.\r\n",
    "    A[3] = A[3] - A[3,0] * A[0]\r\n",
    "    A[3] = A[3] - A[3,1] * A[1]\r\n",
    "    A[3] = A[3] - A[3,2] * A[2]\r\n",
    "    \r\n",
    "    \r\n",
    "    # Complete the if statement to test if the diagonal element is zero.\r\n",
    "    if A[3,3] == 0:\r\n",
    "        raise MatrixIsSingular() # I am pretty sure it doesn't want me to try and fix if the diagnol is 0. Unsure though.\r\n",
    "    # Transform the row to set the diagonal element to one.\r\n",
    "    A[3] = A[3] / A[3,3]\r\n",
    "\r\n",
    "    return A"
   ],
   "outputs": [],
   "metadata": {}
  },
  {
   "cell_type": "markdown",
   "source": [
    "## Test your code before submission\n",
    "To test the code you've written above, run the cell (select the cell above, then press the play button [ ▶| ] or press shift-enter).\n",
    "You can then use the code below to test out your function.\n",
    "You don't need to submit this cell; you can edit and run it as much as you like.\n",
    "\n",
    "Try out your code on tricky test cases!"
   ],
   "metadata": {}
  },
  {
   "cell_type": "code",
   "execution_count": 8,
   "source": [
    "A = np.array([\r\n",
    "        [2, 0, 0, 0],\r\n",
    "        [0, 3, 0, 0],\r\n",
    "        [0, 0, 4, 4],\r\n",
    "        [0, 0, 5, 5]\r\n",
    "    ], dtype=np.float_)\r\n",
    "isSingular(A)"
   ],
   "outputs": [
    {
     "output_type": "execute_result",
     "data": {
      "text/plain": [
       "True"
      ]
     },
     "metadata": {},
     "execution_count": 8
    }
   ],
   "metadata": {}
  },
  {
   "cell_type": "code",
   "execution_count": 7,
   "source": [
    "A = np.array([\r\n",
    "        [0, 7, -5, 3],\r\n",
    "        [2, 8, 0, 4],\r\n",
    "        [3, 12, 0, 5],\r\n",
    "        [1, 3, 1, 3]\r\n",
    "    ], dtype=np.float_)\r\n",
    "fixRowZero(A)"
   ],
   "outputs": [
    {
     "output_type": "execute_result",
     "data": {
      "text/plain": [
       "array([[ 1. ,  7.5, -2.5,  3.5],\n",
       "       [ 2. ,  8. ,  0. ,  4. ],\n",
       "       [ 3. , 12. ,  0. ,  5. ],\n",
       "       [ 1. ,  3. ,  1. ,  3. ]])"
      ]
     },
     "metadata": {},
     "execution_count": 7
    }
   ],
   "metadata": {}
  },
  {
   "cell_type": "code",
   "execution_count": 40,
   "source": [
    "fixRowOne(A)"
   ],
   "outputs": [
    {
     "output_type": "execute_result",
     "data": {
      "text/plain": [
       "array([[  1.        ,   7.5       ,  -2.5       ,   3.5       ],\n",
       "       [ -0.        ,   1.        ,  -0.71428571,   0.42857143],\n",
       "       [  3.        ,  12.        ,   0.        ,   5.        ],\n",
       "       [  1.        ,   3.        ,   1.        ,   3.        ]])"
      ]
     },
     "metadata": {},
     "execution_count": 40
    }
   ],
   "metadata": {}
  },
  {
   "cell_type": "code",
   "execution_count": 41,
   "source": [
    "fixRowTwo(A)"
   ],
   "outputs": [
    {
     "output_type": "execute_result",
     "data": {
      "text/plain": [
       "array([[ 1.        ,  7.5       , -2.5       ,  3.5       ],\n",
       "       [-0.        ,  1.        , -0.71428571,  0.42857143],\n",
       "       [ 0.        ,  0.        ,  1.        ,  1.5       ],\n",
       "       [ 1.        ,  3.        ,  1.        ,  3.        ]])"
      ]
     },
     "metadata": {},
     "execution_count": 41
    }
   ],
   "metadata": {}
  },
  {
   "cell_type": "code",
   "execution_count": 1,
   "source": [
    "fixRowThree(A)"
   ],
   "outputs": [
    {
     "output_type": "error",
     "ename": "NameError",
     "evalue": "name 'fixRowThree' is not defined",
     "traceback": [
      "\u001b[1;31m---------------------------------------------------------------------------\u001b[0m",
      "\u001b[1;31mNameError\u001b[0m                                 Traceback (most recent call last)",
      "\u001b[1;32m<ipython-input-1-d25352be9b2c>\u001b[0m in \u001b[0;36m<module>\u001b[1;34m\u001b[0m\n\u001b[1;32m----> 1\u001b[1;33m \u001b[0mfixRowThree\u001b[0m\u001b[1;33m(\u001b[0m\u001b[0mA\u001b[0m\u001b[1;33m)\u001b[0m\u001b[1;33m\u001b[0m\u001b[1;33m\u001b[0m\u001b[0m\n\u001b[0m",
      "\u001b[1;31mNameError\u001b[0m: name 'fixRowThree' is not defined"
     ]
    }
   ],
   "metadata": {}
  }
 ],
 "metadata": {
  "coursera": {
   "course_slug": "linear-algebra-machine-learning",
   "graded_item_id": "vhy4M",
   "launcher_item_id": "3vbW4"
  },
  "kernelspec": {
   "name": "python3",
   "display_name": "Python 3.9.1 64-bit"
  },
  "language_info": {
   "codemirror_mode": {
    "name": "ipython",
    "version": 3
   },
   "file_extension": ".py",
   "mimetype": "text/x-python",
   "name": "python",
   "nbconvert_exporter": "python",
   "pygments_lexer": "ipython3",
   "version": "3.9.1"
  },
  "interpreter": {
   "hash": "9b8ab61c9e77274f2d446992832627a1a97087245ff5de8b0d11c3c770be55a5"
  }
 },
 "nbformat": 4,
 "nbformat_minor": 1
}