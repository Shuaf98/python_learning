{
 "cells": [
  {
   "cell_type": "markdown",
   "metadata": {},
   "source": [
    "### Matrix multiplication\n",
    "\n",
    "As a thumb rule, think of the left-hand side matrix multiplying the right hand side matrix. You then multiply each element of the lines of the right hand side by each element of the columns of the left thand side matrix.\n",
    "\n",
    "Let's look at it from a example point of view:\n",
    "\n",
    "$\\begin{bmatrix} 2 & 3 & 1 \\\\ 0 & -1 & -2\n",
    "\\end{bmatrix}$ $\\times$ $\\begin{bmatrix} 2 & 0 \\\\ -2 & 1 \\\\ 1 & 1\\end{bmatrix}$"
   ]
  },
  {
   "cell_type": "markdown",
   "metadata": {},
   "source": [
    "Now we multiply the first line of the right hand side matrix (2 3 1) be the first column of the left hand side matrix (2 -2 1), like this:\n",
    "\n",
    "(2 * 2) + (3*-2) + (1 * 1) = 4 -6 + 1 = -1 This is the first element of our new matrix\n",
    "\n",
    "$\\begin{bmatrix} -1 & ?  \\\\ ? & ?\n",
    "\\end{bmatrix}$"
   ]
  },
  {
   "cell_type": "markdown",
   "metadata": {},
   "source": [
    "We just multiplied the first line to the first column, now we multiply the first line again (2 3 1) but to the second column (0 1 1), since the left hand side matrix has two columns (if there was 5 columns for instance, you would multiply the first line by all 5 columns):\n",
    "\n",
    "(2*0) + (3 * 1) + (1 * 1) = 4 < and this is our second element of the matrix!\n",
    "\n",
    "$\\begin{bmatrix} -1 & 4  \\\\ ? & ?\n",
    "\\end{bmatrix}$"
   ]
  },
  {
   "cell_type": "markdown",
   "metadata": {},
   "source": [
    "Now we multiply the second line by the first column, then the second line by the second column, giving us the full resultant matrix:\n",
    "\n",
    "$\\begin{bmatrix} -1 & 4  \\\\ 0 & -3\n",
    "\\end{bmatrix}$"
   ]
  },
  {
   "cell_type": "code",
   "execution_count": 5,
   "metadata": {},
   "outputs": [
    {
     "name": "stdout",
     "output_type": "stream",
     "text": [
      "[-1, 4]\n",
      "[0, -3]\n"
     ]
    }
   ],
   "source": [
    "#Let phyton to do the work and check the result for your self:\n",
    "\n",
    "# first 2x3 matrix\n",
    "X = [[2,3,1],\n",
    "    [0 ,-1,-2]]\n",
    "\n",
    "# second 3x2\n",
    "Y = [[2,0],\n",
    "    [-2,1],\n",
    "     [1, 1]]\n",
    "\n",
    "result = [[sum(a*b for a,b in zip(X_row,Y_col)) for Y_col in zip(*Y)] for X_row in X]\n",
    "\n",
    "for r in result:\n",
    "   print(r)"
   ]
  },
  {
   "cell_type": "markdown",
   "metadata": {},
   "source": [
    "### Matrix properties\n",
    "\n",
    "Let A be any NxK matrix, r and s be a vector with K lines and n a scalar:\n",
    "\n",
    "- A $\\times$ r = r'\n",
    "- A $\\times$ (nr) = n r'\n",
    "- A $\\times$ (r + s) = Ar + As"
   ]
  },
  {
   "cell_type": "code",
   "execution_count": 9,
   "metadata": {},
   "outputs": [],
   "source": [
    "import matplotlib.pyplot as plt    # v 1.19.2\n",
    "import numpy as np                 # v 3.3.2"
   ]
  },
  {
   "cell_type": "markdown",
   "metadata": {},
   "source": [
    "### Identity matrix\n",
    "\n",
    "The identity matrix consist of 1's in its diagonal and 0 the other elements, like this:\n",
    "$\\begin{bmatrix} 1 & 0  \\\\ 0 & 1\n",
    "\\end{bmatrix}$\n",
    "\n",
    "What it does is to \"nothing\" and leave everything preserved, if we multiply a vector [x y] by the identity:\n",
    "\n",
    "$\\begin{bmatrix} 1 & 0  \\\\ 0 & 1\n",
    "\\end{bmatrix}$ $\\times$ $\\begin{bmatrix} x  \\\\ y\n",
    "\\end{bmatrix}$ = $\\begin{bmatrix} x  \\\\ y\n",
    "\\end{bmatrix}$"
   ]
  },
  {
   "cell_type": "markdown",
   "metadata": {},
   "source": [
    "If i have matrix with numbers different from 1 in the diagon and 0 in other elements, it scales the vector that is multiplying, like this:"
   ]
  },
  {
   "cell_type": "code",
   "execution_count": 16,
   "metadata": {},
   "outputs": [
    {
     "data": {
      "image/png": "[encoded data removed]",
      "text/plain": [
       "<Figure size 720x720 with 1 Axes>"
      ]
     },
     "metadata": {
      "needs_background": "light"
     },
     "output_type": "display_data"
    }
   ],
   "source": [
    "# Enter x and y coordinates of points and colors\n",
    "xs = [0, 1, 0, 2]\n",
    "ys = [0, 1, 0, 3]\n",
    "colors = ['m', 'm', 'g', 'g']\n",
    "\n",
    "# Select length of axes and the space between tick labels\n",
    "xmin, xmax, ymin, ymax = -5, 5, -5, 5\n",
    "ticks_frequency = 1\n",
    "\n",
    "# Plot points\n",
    "fig, ax = plt.subplots(figsize=(10, 10))\n",
    "ax.scatter(xs, ys, c=colors)\n",
    "\n",
    "# Draw lines connecting points to axes\n",
    "[ax.plot([x, x], [0, y], c=c, ls='--', lw=1.5, alpha=0.5) for x, y, c in zip(xs, ys, colors)] \n",
    "[ax.plot([0, x], [y, y], c=c, ls='--', lw=1.5, alpha=0.5) for x, y, c in zip(xs, ys, colors)]\n",
    "\n",
    "# Set identical scales for both axes\n",
    "ax.set(xlim=(xmin-1, xmax+1), ylim=(ymin-1, ymax+1), aspect='equal')\n",
    "\n",
    "# Set bottom and left spines as x and y axes of coordinate system\n",
    "ax.spines['bottom'].set_position('zero')\n",
    "ax.spines['left'].set_position('zero')\n",
    "\n",
    "# Remove top and right spines\n",
    "ax.spines['top'].set_visible(False)\n",
    "ax.spines['right'].set_visible(False)\n",
    "\n",
    "# Create 'x' and 'y' labels placed at the end of the axes\n",
    "ax.set_xlabel('x', size=14, labelpad=15)\n",
    "ax.set_ylabel('y', size=14, labelpad=15, rotation=0)\n",
    "ax.xaxis.set_label_coords(1.03, 0.512)\n",
    "ax.yaxis.set_label_coords(0.5, 1.02)\n",
    "\n",
    "# Create custom major ticks to determine position of tick labels\n",
    "x_ticks = np.arange(xmin, xmax+1, ticks_frequency)\n",
    "x_ticks_major = x_ticks[x_ticks != 0]\n",
    "y_ticks = np.arange(ymin, ymax+1, ticks_frequency)\n",
    "y_ticks_major = y_ticks[y_ticks != 0]\n",
    "ax.set_xticks(x_ticks_major)\n",
    "ax.set_yticks(y_ticks_major)\n",
    "\n",
    "# Create custom minor ticks to enable drawing of minor grid lines\n",
    "ax.set_xticks(np.arange(xmin,xmax+1), minor=True)\n",
    "ax.set_yticks(np.arange(ymin,ymax+1), minor=True)\n",
    "\n",
    "# Draw major and minor grid lines\n",
    "ax.grid(which='both', color='grey', linewidth=1, linestyle='-', alpha=0.2)\n",
    "\n",
    "# Draw arrows\n",
    "ax.plot((1), (0), linestyle='', marker='>', markersize=4, color='black',\n",
    "        transform=ax.get_yaxis_transform(), clip_on=False)\n",
    "ax.plot((0), (1), linestyle='', marker='^', markersize=4, color='black',\n",
    "        transform=ax.get_xaxis_transform(), clip_on=False)\n",
    "\n",
    "plt.show()"
   ]
  },
  {
   "cell_type": "markdown",
   "metadata": {},
   "source": [
    "In this example we had a vector $\\begin{bmatrix} 1 \\\\ 1\\end{bmatrix}$ that was multiplied by a matrix $\\begin{bmatrix} 2 & 0  \\\\ 0 & 3\n",
    "\\end{bmatrix}$, and therefore was scaled to the size 2 in the x axis and 3 in the y axis"
   ]
  },
  {
   "cell_type": "markdown",
   "metadata": {},
   "source": [
    "We can also flip the coordinates, if we multiply our $\\begin{bmatrix} 1 \\\\ 1\\end{bmatrix}$ vector by a $\\begin{bmatrix} -1 & 0  \\\\ 0 & -1\n",
    "\\end{bmatrix}$ matrix, we transform it to the inverse"
   ]
  },
  {
   "cell_type": "code",
   "execution_count": 17,
   "metadata": {},
   "outputs": [
    {
     "data": {
      "image/png": "[encoded data removed]",
      "text/plain": [
       "<Figure size 720x720 with 1 Axes>"
      ]
     },
     "metadata": {
      "needs_background": "light"
     },
     "output_type": "display_data"
    }
   ],
   "source": [
    "# Enter x and y coordinates of points and colors\n",
    "xs = [0, 1, 0, -1]\n",
    "ys = [0, 1, 0, -1]\n",
    "colors = ['m', 'm', 'g', 'g']\n",
    "\n",
    "# Select length of axes and the space between tick labels\n",
    "xmin, xmax, ymin, ymax = -5, 5, -5, 5\n",
    "ticks_frequency = 1\n",
    "\n",
    "# Plot points\n",
    "fig, ax = plt.subplots(figsize=(10, 10))\n",
    "ax.scatter(xs, ys, c=colors)\n",
    "\n",
    "# Draw lines connecting points to axes\n",
    "[ax.plot([x, x], [0, y], c=c, ls='--', lw=1.5, alpha=0.5) for x, y, c in zip(xs, ys, colors)] \n",
    "[ax.plot([0, x], [y, y], c=c, ls='--', lw=1.5, alpha=0.5) for x, y, c in zip(xs, ys, colors)]\n",
    "\n",
    "# Set identical scales for both axes\n",
    "ax.set(xlim=(xmin-1, xmax+1), ylim=(ymin-1, ymax+1), aspect='equal')\n",
    "\n",
    "# Set bottom and left spines as x and y axes of coordinate system\n",
    "ax.spines['bottom'].set_position('zero')\n",
    "ax.spines['left'].set_position('zero')\n",
    "\n",
    "# Remove top and right spines\n",
    "ax.spines['top'].set_visible(False)\n",
    "ax.spines['right'].set_visible(False)\n",
    "\n",
    "# Create 'x' and 'y' labels placed at the end of the axes\n",
    "ax.set_xlabel('x', size=14, labelpad=15)\n",
    "ax.set_ylabel('y', size=14, labelpad=15, rotation=0)\n",
    "ax.xaxis.set_label_coords(1.03, 0.512)\n",
    "ax.yaxis.set_label_coords(0.5, 1.02)\n",
    "\n",
    "# Create custom major ticks to determine position of tick labels\n",
    "x_ticks = np.arange(xmin, xmax+1, ticks_frequency)\n",
    "x_ticks_major = x_ticks[x_ticks != 0]\n",
    "y_ticks = np.arange(ymin, ymax+1, ticks_frequency)\n",
    "y_ticks_major = y_ticks[y_ticks != 0]\n",
    "ax.set_xticks(x_ticks_major)\n",
    "ax.set_yticks(y_ticks_major)\n",
    "\n",
    "# Create custom minor ticks to enable drawing of minor grid lines\n",
    "ax.set_xticks(np.arange(xmin,xmax+1), minor=True)\n",
    "ax.set_yticks(np.arange(ymin,ymax+1), minor=True)\n",
    "\n",
    "# Draw major and minor grid lines\n",
    "ax.grid(which='both', color='grey', linewidth=1, linestyle='-', alpha=0.2)\n",
    "\n",
    "# Draw arrows\n",
    "ax.plot((1), (0), linestyle='', marker='>', markersize=4, color='black',\n",
    "        transform=ax.get_yaxis_transform(), clip_on=False)\n",
    "ax.plot((0), (1), linestyle='', marker='^', markersize=4, color='black',\n",
    "        transform=ax.get_xaxis_transform(), clip_on=False)\n",
    "\n",
    "plt.show()"
   ]
  },
  {
   "cell_type": "markdown",
   "metadata": {},
   "source": [
    "### Practice exercises Using matrices to make transformations\n",
    "\n",
    "1 - \n",
    "\n",
    "$\\mathbf{r}= \\begin{bmatrix} 1/2 & -1 \\\\ 0 & 3/4 \\end{bmatrix}\\begin{bmatrix} 3 \\\\ 2 \\end{bmatrix}$ = ?\n"
   ]
  },
  {
   "cell_type": "markdown",
   "metadata": {},
   "source": [
    "(1/2 * 3) + (-1 * 2) = -1/2\n",
    "(0 * 3) + (3/4 * 2) = 6/4 = 3/2 \n",
    "= $\\begin{bmatrix} -1/2 \\\\ 3/2 \\end{bmatrix}$\n"
   ]
  },
  {
   "cell_type": "markdown",
   "metadata": {},
   "source": [
    "### solving simultaneous equations through matrix notation\n",
    "\n",
    "Let A be a 2x2 matrix, r an unknown vector with dimension 2, then:\n",
    "\n",
    "$A \\times r = s$\n",
    "\n",
    "We have the property that the Inverse of a matrix multiplied by the matrix is equal to the identity:\n",
    "\n",
    "$ A \\times A^{-1} = I$\n",
    "\n",
    "So if we multiply our problem by the inverse matrix, we have that:\n",
    "\n",
    "$A A^{-1} r = A^{-1} s$\n",
    "\n",
    "and we know that $A A^{-1}$ = $I$, so :\n",
    "\n",
    "$I r = A^{-1} s$, and given that the Identity matrix (I) keeps r the same, we have that the solution to r is:\n",
    "\n",
    "$r = A^{-1} s$"
   ]
  },
  {
   "cell_type": "markdown",
   "metadata": {},
   "source": [
    "### Practice exercises Silving linear equations \n",
    "\n",
    "### 2 -\n",
    "\n",
    "Given another system, $B\\mathbf{r} = \\mathbf{t}Br=t$,\n",
    "\n",
    "$\\begin{matrix}①: \\\\②: \\\\③: \\end{matrix}\\begin{bmatrix}4 & 6 & 2 \\\\ 3 & 4 & 1 \\\\ 2 & 8 & 13\\end{bmatrix} \\begin{bmatrix}a\\\\b\\\\c\\end{bmatrix} = \\begin{bmatrix}9\\\\7\\\\2\\end{bmatrix} $\n",
    "\n",
    "We wish to convert this to echelon form, by using elimination. Starting with the first row, ①, if we divide the whole row by 4, then the top-left element of the matrix becomes 1,\n",
    "\n",
    "$\\begin{matrix}①': \\\\②': \\\\③': \\end{matrix}\\begin{bmatrix}1 & 3/2 & 1/2 \\\\ 3 & 4 & 1 \\\\ 2 & 8 \n",
    "& 13\\end{bmatrix} \\begin{bmatrix}a\\\\b\\\\c\\end{bmatrix} = \n",
    "\\begin{bmatrix}9/4\\\\7\\\\2\\end{bmatrix}$\n",
    "\n",
    "Next, we need to fix the second row. This results in the following, $\\begin{matrix}①'': \\\\②'': \\\\③'': \\end{matrix}\\begin{bmatrix}1 & 3/2 & 1/2 \\\\ 0 & 1 & 1 \\\\ 2 & 8 \n",
    "& 13\\end{bmatrix} \\begin{bmatrix}a\\\\b\\\\c\\end{bmatrix} = \n",
    "\\begin{bmatrix}9/4\\\\-1/2\\\\2\\end{bmatrix}$\n",
    "\n",
    "What steps did we take?"
   ]
  },
  {
   "cell_type": "code",
   "execution_count": 23,
   "metadata": {},
   "outputs": [
    {
     "data": {
      "text/plain": [
       "1.0"
      ]
     },
     "execution_count": 23,
     "metadata": {},
     "output_type": "execute_result"
    }
   ],
   "source": [
    "(4 - ((3/2)*3)) *-2"
   ]
  },
  {
   "cell_type": "code",
   "execution_count": 24,
   "metadata": {},
   "outputs": [
    {
     "data": {
      "text/plain": [
       "1.0"
      ]
     },
     "execution_count": 24,
     "metadata": {},
     "output_type": "execute_result"
    }
   ],
   "source": [
    "(1 - ((1/2)*3)) *-2"
   ]
  },
  {
   "cell_type": "code",
   "execution_count": 25,
   "metadata": {},
   "outputs": [
    {
     "data": {
      "text/plain": [
       "-0.5"
      ]
     },
     "execution_count": 25,
     "metadata": {},
     "output_type": "execute_result"
    }
   ],
   "source": [
    "(7 - ((9/4)*3)) *-2"
   ]
  },
  {
   "cell_type": "markdown",
   "metadata": {},
   "source": [
    "We made the following operation: The old second row minus three times the old first row, then all multiplied by -2"
   ]
  },
  {
   "cell_type": "markdown",
   "metadata": {},
   "source": [
    "## 3 - \n",
    "From the previous question, our system is almost in echelon form.\n",
    "\n",
    "$\\begin{matrix}①''\\\\②''\\\\③''\\end{matrix}\\begin{bmatrix}1 & 3/2 & 1/2 \\\\ 0 & 1 & 1 \\\\ 2 & 8 \n",
    "& 13\\end{bmatrix} \\begin{bmatrix}a\\\\b\\\\c\\end{bmatrix} = \n",
    "\\begin{bmatrix}9/4\\\\-1/2\\\\2\\end{bmatrix}$\n",
    "\n",
    "Fix row 3 to be a linear combination of the other two. What is the echelon form of the system?"
   ]
  },
  {
   "cell_type": "markdown",
   "metadata": {},
   "source": [
    "> Now we need to transform the first and second elements of the third row in to 0"
   ]
  },
  {
   "cell_type": "markdown",
   "metadata": {},
   "source": [
    "> add 2 times the first row to the third row\n",
    "\n",
    "$\\begin{matrix}①''\\\\②''\\\\③''\\end{matrix}\\begin{bmatrix}1 & 3/2 & 1/2 \\\\ 0 & 1 & 1 \\\\ 0 & 5 \n",
    "& 12\\end{bmatrix} \\begin{bmatrix}a\\\\b\\\\c\\end{bmatrix} = \n",
    "\\begin{bmatrix}9/4\\\\-1/2\\\\-10/4\\end{bmatrix}$"
   ]
  },
  {
   "cell_type": "markdown",
   "metadata": {},
   "source": [
    "> add -5 times the second row the third row\n",
    "\n",
    "$\\begin{matrix}①''\\\\②''\\\\③''\\end{matrix}\\begin{bmatrix}1 & 3/2 & 1/2 \\\\ 0 & 1 & 1 \\\\ 0 & 0 \n",
    "& 7\\end{bmatrix} \\begin{bmatrix}a\\\\b\\\\c\\end{bmatrix} = \n",
    "\\begin{bmatrix}9/4\\\\-1/2\\\\0\\end{bmatrix}$"
   ]
  },
  {
   "cell_type": "markdown",
   "metadata": {},
   "source": [
    "> multiply the third row by 1/7\n",
    "\n",
    "$\\begin{matrix}①''\\\\②''\\\\③''\\end{matrix}\\begin{bmatrix}1 & 3/2 & 1/2 \\\\ 0 & 1 & 1 \\\\ 0 & 0 \n",
    "& 1\\end{bmatrix} \\begin{bmatrix}a\\\\b\\\\c\\end{bmatrix} = \n",
    "\\begin{bmatrix}9/4\\\\-1/2\\\\0\\end{bmatrix}$"
   ]
  },
  {
   "cell_type": "markdown",
   "metadata": {},
   "source": []
  },
  {
   "cell_type": "code",
   "execution_count": null,
   "metadata": {},
   "outputs": [],
   "source": []
  }
 ],
 "metadata": {
  "kernelspec": {
   "display_name": "Python 3",
   "language": "python",
   "name": "python3"
  },
  "language_info": {
   "codemirror_mode": {
    "name": "ipython",
    "version": 3
   },
   "file_extension": ".py",
   "mimetype": "text/x-python",
   "name": "python",
   "nbconvert_exporter": "python",
   "pygments_lexer": "ipython3",
   "version": "3.7.4"
  }
 },
 "nbformat": 4,
 "nbformat_minor": 4
}
