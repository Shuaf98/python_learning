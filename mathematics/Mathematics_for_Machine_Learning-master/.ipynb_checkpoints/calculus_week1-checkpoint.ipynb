{
 "cells": [
  {
   "cell_type": "markdown",
   "metadata": {},
   "source": [
    "# Derivative definition\n",
    "\n",
    "When expressing a derivative of a function (let's say the function is f(x)), we can pick one of those two notations:\n",
    "\n",
    "$f'(x)$\n",
    "\n",
    "or\n",
    "\n",
    "$\\frac{\\partial f}{\\partial x}$\n",
    "\n",
    "and the derivative is equal to the following expression:\n",
    "\n",
    "$f'(x) = \\lim_{x \\to 0} \\left (\\frac{f(x + \\Delta x) - f(x)}{\\Delta x} \\right )$\n",
    "\n",
    "A good way to remember this is from the expression: Rise over run, wich means Rise/Run: The amount of elevation from one point from another in graph (Rise) divided by the distance between those points (Run).\n",
    "\n",
    "And the limit notation means that we choose the distance between those points to be very close to 0 (but not exactly 0).\n",
    "\n",
    "This is exactly what differentiation is (difference between 2 points), and to diferentiate a function you just substitute the function in this expression.\n"
   ]
  },
  {
   "cell_type": "markdown",
   "metadata": {},
   "source": [
    "The gradient of a expression in the form: ax + b is just = a (result from the expression above)\n",
    "This means the gradient from a straight line is a constant.\n",
    "\n",
    "**Note that the derivative of a constant is 0, for instance: $f(x) = 3$ then: $f'(x) = 0$**\n",
    "\n",
    "Note that we differentiated two things at once (ax and b), and this hints to the first rule of the differentiation: \n",
    "\n",
    "# The sum rule\n",
    "\n",
    "The sum rule means that the derivative of multiple expressions is just the sum of the derivative of each single expression, like this:\n",
    "\n",
    "$\\frac{\\partial f(x) + g(x)}{\\partial x} = \\frac{\\partial f(x)}{\\partial x} + \\frac{\\partial g(x)}{\\partial x}$\n",
    "\n",
    "# The power rule\n",
    "\n",
    "This rule shows us that when handling a expression with power, for instance:\n",
    "\n",
    "$3x^2$ = 3x to the power of 2\n",
    "\n",
    "The derivative is going to be the expression times the power, and the new power becomes: old power - 1\n",
    "\n",
    "In this example:\n",
    "\n",
    "$3x^2 = 2.3x^1 = 6x^1 = 6x$ = the power (2) times the expression 3x to the power (2) - 1 =  $2.3x^1$\n",
    "\n",
    "This rule can be generalized in the expression: \n",
    "\n",
    "If $f(x) = ax^b$\n",
    "\n",
    "Then\n",
    "\n",
    "$f'(x) = bax^{b-1}$\n",
    "\n",
    "# Special cases derivative\n",
    "\n",
    "$f(x) = \\frac {1}{x}$\n",
    "\n",
    "$f'(x) = \\frac{-1}{x^2}$\n",
    "\n",
    "-----\n",
    "\n",
    "$f(x) = e^x$\n",
    "\n",
    "$f'(x) = e^x$\n",
    "\n",
    "$f''(x) = e^x$ ... and so on\n",
    "\n",
    "-----\n",
    "\n",
    "$f(x) = sin(x)$\n",
    "\n",
    "$f'(x) = cos(x)$\n",
    "\n",
    "$f''(x) = -sin(x)$\n",
    "\n",
    "$f'''(x) = -cos(x)$\n",
    "\n",
    "$f''''(x) = sin(x)$ ... and so on"
   ]
  },
  {
   "cell_type": "markdown",
   "metadata": {},
   "source": [
    "# Practice exercises - Let's differentiate some functions\n",
    "\n",
    "# 2 -\n",
    "\n",
    "Use the sum rule to differentiate $f(x) = x^2 + 7 + \\frac{1}{x}$\n",
    "\n",
    "> "
   ]
  },
  {
   "cell_type": "markdown",
   "metadata": {},
   "source": [
    "> $f'(x) = \\frac{\\partial f(x^2)}{\\partial x} + \\frac{\\partial f(7)}{\\partial x} + \\frac{\\partial f(1/x)}{\\partial x}$\n",
    "\n",
    "> $f'(x) = 2.x^{2-1} + 0 + (-1/x) = 2x - 1/x^2$\n",
    "\n",
    "# 3 - \n",
    "\n",
    "Differentiate the function $f(x) = e^x + 2\\sin(x) +x^3$ twice to find its second derivative, $f''(x)$"
   ]
  },
  {
   "cell_type": "markdown",
   "metadata": {},
   "source": [
    "> $f'(x) = \\frac{\\partial f(e^x)}{\\partial x} + \\frac{\\partial f(2\\sin(x))}{\\partial x} + \\frac{\\partial f(x^3)}{\\partial x} $\n",
    "\n",
    "> $f'(x) = e^x + 2\\cos(x) + 3.x^{3-1} = e^x + 2\\cos(x) + 3x^{2}$\n",
    "\n",
    "> $f''(x) = \\frac{\\partial f(e^x)}{\\partial x} + \\frac{\\partial f(2\\cos(x))}{\\partial x} + \\frac{\\partial f(3x^2)}{\\partial x} $\n",
    "\n",
    "> $f''(x) = e^x + 2(-\\sin(x)) + 2.3x^{2-1} = e^x - 2\\sin(x) + 6x^{1}$"
   ]
  },
  {
   "cell_type": "markdown",
   "metadata": {},
   "source": [
    "# Product rule\n",
    "\n",
    "If A(x) = f(x) g(x), then:\n",
    "\n",
    "$A'(x) = f(x) g'(x) + g(x) f'(x)$"
   ]
  },
  {
   "cell_type": "markdown",
   "metadata": {},
   "source": [
    "# Practicing the product rule\n",
    "\n",
    "# 2 - \n",
    "\n",
    "differentiate the function $A(x) = (x+2)(3x-3)$ with respect to x.\n",
    "\n",
    "\n",
    "> let (x+2) be f(x) and (3x-3) be g(x), then:\n",
    "\n",
    "> $ A'(x) = (x+2) \\frac{\\partial g(x)}{\\partial x} + (3x-3) \\frac{\\partial f(x)}{\\partial x}$ (1)\n",
    "\n",
    "finding $g'(x)$ and $f'(x)$:\n",
    "\n",
    "> f'(x) = 1\n",
    "\n",
    "> g'(x) = 3\n",
    "\n",
    "> now substituting the values in expression (1):\n",
    "\n",
    "$ A'(x) = (x+2)3 + (3x-3)1 = 3x+6 + 3x-3 = 6x+3$\n"
   ]
  },
  {
   "cell_type": "code",
   "execution_count": null,
   "metadata": {},
   "outputs": [],
   "source": []
  }
 ],
 "metadata": {
  "kernelspec": {
   "display_name": "Python 3",
   "language": "python",
   "name": "python3"
  },
  "language_info": {
   "codemirror_mode": {
    "name": "ipython",
    "version": 3
   },
   "file_extension": ".py",
   "mimetype": "text/x-python",
   "name": "python",
   "nbconvert_exporter": "python",
   "pygments_lexer": "ipython3",
   "version": "3.7.4"
  }
 },
 "nbformat": 4,
 "nbformat_minor": 4
}
